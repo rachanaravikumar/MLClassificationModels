{
 "cells": [
  {
   "cell_type": "markdown",
   "metadata": {},
   "source": [
    "# Machine Learning - Project 1 - Group 12\n",
    "#### Rachana RaviKumar - rxr190009\n",
    "#### Srilekha Boddu - sxb190060\n"
   ]
  },
  {
   "cell_type": "markdown",
   "metadata": {},
   "source": [
    "# Classifcation"
   ]
  },
  {
   "cell_type": "markdown",
   "metadata": {},
   "source": [
    "### Estimation of obesity levels based on eating habits and physical condition \n",
    "Data source:https://archive.ics.uci.edu/ml/datasets/Estimation+of+obesity+levels+based+on+eating+habits+and+physical+condition+"
   ]
  },
  {
   "cell_type": "markdown",
   "metadata": {},
   "source": [
    "# Data Description:"
   ]
  },
  {
   "cell_type": "markdown",
   "metadata": {},
   "source": [
    "- Frequent consumption of high caloric food (FAVC), \n",
    "- Frequency of consumption of vegetables (FCVC), \n",
    "- Number of main meals (NCP), \n",
    "- Consumption of food between meals (CAEC),\n",
    "- Whether the person smokes or not (SMOKE),\n",
    "- Consumption of water daily (CH20), \n",
    "- Consumption of alcohol (CALC).\n",
    "\n",
    "The attributes related with the physical condition are:\n",
    "- Calories consumption monitoring (SCC), \n",
    "- Physical activity frequency (FAF), \n",
    "- Time using technology devices (TUE), \n",
    "- Transportation used (MTRANS),\n",
    "- other variables obtained were: Gender, Age, Height, Weight and family_history_with_overweight. \n",
    "- Target variable: NObesity\n",
    "\n",
    "The original dataset had no null values, therefore we inserted 5-10% of Null values in several columns.\n",
    "\n",
    "### Project Objective\n",
    "The objective of the project is to classify the obesity level: Insufficient Weight, Normal Weight, Overweight Level I, Overweight Level II, Obesity Type I, Obesity Type II and Obesity Type III"
   ]
  },
  {
   "cell_type": "code",
   "execution_count": 1,
   "metadata": {},
   "outputs": [],
   "source": [
    "#Importing Libraries\n",
    "import pandas as pd\n",
    "import numpy as np\n",
    "import matplotlib.pyplot as plt\n",
    "import seaborn as sns\n",
    "import collections\n",
    "\n",
    "import warnings\n",
    "warnings.filterwarnings('ignore')"
   ]
  },
  {
   "cell_type": "code",
   "execution_count": 2,
   "metadata": {},
   "outputs": [
    {
     "data": {
      "text/html": [
       "<div>\n",
       "<style scoped>\n",
       "    .dataframe tbody tr th:only-of-type {\n",
       "        vertical-align: middle;\n",
       "    }\n",
       "\n",
       "    .dataframe tbody tr th {\n",
       "        vertical-align: top;\n",
       "    }\n",
       "\n",
       "    .dataframe thead th {\n",
       "        text-align: right;\n",
       "    }\n",
       "</style>\n",
       "<table border=\"1\" class=\"dataframe\">\n",
       "  <thead>\n",
       "    <tr style=\"text-align: right;\">\n",
       "      <th></th>\n",
       "      <th>Gender</th>\n",
       "      <th>Age</th>\n",
       "      <th>Height</th>\n",
       "      <th>Weight</th>\n",
       "      <th>family_history_with_overweight</th>\n",
       "      <th>FAVC</th>\n",
       "      <th>FCVC</th>\n",
       "      <th>NCP</th>\n",
       "      <th>CAEC</th>\n",
       "      <th>SMOKE</th>\n",
       "      <th>CH2O</th>\n",
       "      <th>SCC</th>\n",
       "      <th>FAF</th>\n",
       "      <th>TUE</th>\n",
       "      <th>CALC</th>\n",
       "      <th>MTRANS</th>\n",
       "      <th>NObesity</th>\n",
       "    </tr>\n",
       "  </thead>\n",
       "  <tbody>\n",
       "    <tr>\n",
       "      <th>0</th>\n",
       "      <td>Female</td>\n",
       "      <td>21.0</td>\n",
       "      <td>1.62</td>\n",
       "      <td>64.0</td>\n",
       "      <td>yes</td>\n",
       "      <td>no</td>\n",
       "      <td>2.0</td>\n",
       "      <td>3.0</td>\n",
       "      <td>Sometimes</td>\n",
       "      <td>no</td>\n",
       "      <td>2.0</td>\n",
       "      <td>no</td>\n",
       "      <td>0.0</td>\n",
       "      <td>1.0</td>\n",
       "      <td>no</td>\n",
       "      <td>Public_Transportation</td>\n",
       "      <td>Normal_Weight</td>\n",
       "    </tr>\n",
       "    <tr>\n",
       "      <th>1</th>\n",
       "      <td>Female</td>\n",
       "      <td>21.0</td>\n",
       "      <td>1.52</td>\n",
       "      <td>56.0</td>\n",
       "      <td>yes</td>\n",
       "      <td>no</td>\n",
       "      <td>3.0</td>\n",
       "      <td>3.0</td>\n",
       "      <td>Sometimes</td>\n",
       "      <td>yes</td>\n",
       "      <td>3.0</td>\n",
       "      <td>yes</td>\n",
       "      <td>3.0</td>\n",
       "      <td>0.0</td>\n",
       "      <td>Sometimes</td>\n",
       "      <td>Public_Transportation</td>\n",
       "      <td>Normal_Weight</td>\n",
       "    </tr>\n",
       "    <tr>\n",
       "      <th>2</th>\n",
       "      <td>Male</td>\n",
       "      <td>23.0</td>\n",
       "      <td>1.80</td>\n",
       "      <td>77.0</td>\n",
       "      <td>yes</td>\n",
       "      <td>no</td>\n",
       "      <td>2.0</td>\n",
       "      <td>3.0</td>\n",
       "      <td>Sometimes</td>\n",
       "      <td>no</td>\n",
       "      <td>2.0</td>\n",
       "      <td>no</td>\n",
       "      <td>2.0</td>\n",
       "      <td>1.0</td>\n",
       "      <td>Frequently</td>\n",
       "      <td>Public_Transportation</td>\n",
       "      <td>Normal_Weight</td>\n",
       "    </tr>\n",
       "    <tr>\n",
       "      <th>3</th>\n",
       "      <td>Male</td>\n",
       "      <td>27.0</td>\n",
       "      <td>1.80</td>\n",
       "      <td>87.0</td>\n",
       "      <td>no</td>\n",
       "      <td>no</td>\n",
       "      <td>3.0</td>\n",
       "      <td>3.0</td>\n",
       "      <td>Sometimes</td>\n",
       "      <td>no</td>\n",
       "      <td>2.0</td>\n",
       "      <td>no</td>\n",
       "      <td>2.0</td>\n",
       "      <td>0.0</td>\n",
       "      <td>Frequently</td>\n",
       "      <td>Walking</td>\n",
       "      <td>Overweight_Level_I</td>\n",
       "    </tr>\n",
       "    <tr>\n",
       "      <th>4</th>\n",
       "      <td>Male</td>\n",
       "      <td>22.0</td>\n",
       "      <td>1.78</td>\n",
       "      <td>89.8</td>\n",
       "      <td>no</td>\n",
       "      <td>no</td>\n",
       "      <td>2.0</td>\n",
       "      <td>1.0</td>\n",
       "      <td>Sometimes</td>\n",
       "      <td>no</td>\n",
       "      <td>2.0</td>\n",
       "      <td>no</td>\n",
       "      <td>0.0</td>\n",
       "      <td>0.0</td>\n",
       "      <td>Sometimes</td>\n",
       "      <td>Public_Transportation</td>\n",
       "      <td>Overweight_Level_II</td>\n",
       "    </tr>\n",
       "  </tbody>\n",
       "</table>\n",
       "</div>"
      ],
      "text/plain": [
       "   Gender   Age  Height  Weight family_history_with_overweight FAVC  FCVC  \\\n",
       "0  Female  21.0    1.62    64.0                            yes   no   2.0   \n",
       "1  Female  21.0    1.52    56.0                            yes   no   3.0   \n",
       "2    Male  23.0    1.80    77.0                            yes   no   2.0   \n",
       "3    Male  27.0    1.80    87.0                             no   no   3.0   \n",
       "4    Male  22.0    1.78    89.8                             no   no   2.0   \n",
       "\n",
       "   NCP       CAEC SMOKE  CH2O  SCC  FAF  TUE        CALC  \\\n",
       "0  3.0  Sometimes    no   2.0   no  0.0  1.0          no   \n",
       "1  3.0  Sometimes   yes   3.0  yes  3.0  0.0   Sometimes   \n",
       "2  3.0  Sometimes    no   2.0   no  2.0  1.0  Frequently   \n",
       "3  3.0  Sometimes    no   2.0   no  2.0  0.0  Frequently   \n",
       "4  1.0  Sometimes    no   2.0   no  0.0  0.0   Sometimes   \n",
       "\n",
       "                  MTRANS             NObesity  \n",
       "0  Public_Transportation        Normal_Weight  \n",
       "1  Public_Transportation        Normal_Weight  \n",
       "2  Public_Transportation        Normal_Weight  \n",
       "3                Walking   Overweight_Level_I  \n",
       "4  Public_Transportation  Overweight_Level_II  "
      ]
     },
     "execution_count": 2,
     "metadata": {},
     "output_type": "execute_result"
    }
   ],
   "source": [
    "df = pd.read_csv(\"Obesity.csv\")\n",
    "df.head()"
   ]
  },
  {
   "cell_type": "code",
   "execution_count": 3,
   "metadata": {},
   "outputs": [
    {
     "data": {
      "text/plain": [
       "(2111, 17)"
      ]
     },
     "execution_count": 3,
     "metadata": {},
     "output_type": "execute_result"
    }
   ],
   "source": [
    "df.shape"
   ]
  },
  {
   "cell_type": "code",
   "execution_count": 4,
   "metadata": {},
   "outputs": [
    {
     "data": {
      "text/html": [
       "<div>\n",
       "<style scoped>\n",
       "    .dataframe tbody tr th:only-of-type {\n",
       "        vertical-align: middle;\n",
       "    }\n",
       "\n",
       "    .dataframe tbody tr th {\n",
       "        vertical-align: top;\n",
       "    }\n",
       "\n",
       "    .dataframe thead th {\n",
       "        text-align: right;\n",
       "    }\n",
       "</style>\n",
       "<table border=\"1\" class=\"dataframe\">\n",
       "  <thead>\n",
       "    <tr style=\"text-align: right;\">\n",
       "      <th></th>\n",
       "      <th>Age</th>\n",
       "      <th>Height</th>\n",
       "      <th>Weight</th>\n",
       "      <th>FCVC</th>\n",
       "      <th>NCP</th>\n",
       "      <th>CH2O</th>\n",
       "      <th>FAF</th>\n",
       "      <th>TUE</th>\n",
       "    </tr>\n",
       "  </thead>\n",
       "  <tbody>\n",
       "    <tr>\n",
       "      <th>count</th>\n",
       "      <td>2111.000000</td>\n",
       "      <td>2111.000000</td>\n",
       "      <td>2111.000000</td>\n",
       "      <td>2111.000000</td>\n",
       "      <td>2101.000000</td>\n",
       "      <td>1982.000000</td>\n",
       "      <td>2111.000000</td>\n",
       "      <td>2111.000000</td>\n",
       "    </tr>\n",
       "    <tr>\n",
       "      <th>mean</th>\n",
       "      <td>24.312600</td>\n",
       "      <td>1.701677</td>\n",
       "      <td>86.586058</td>\n",
       "      <td>2.419043</td>\n",
       "      <td>2.687674</td>\n",
       "      <td>2.008120</td>\n",
       "      <td>1.010298</td>\n",
       "      <td>0.657866</td>\n",
       "    </tr>\n",
       "    <tr>\n",
       "      <th>std</th>\n",
       "      <td>6.345968</td>\n",
       "      <td>0.093305</td>\n",
       "      <td>26.191172</td>\n",
       "      <td>0.533927</td>\n",
       "      <td>0.777083</td>\n",
       "      <td>0.613392</td>\n",
       "      <td>0.850592</td>\n",
       "      <td>0.608927</td>\n",
       "    </tr>\n",
       "    <tr>\n",
       "      <th>min</th>\n",
       "      <td>14.000000</td>\n",
       "      <td>1.450000</td>\n",
       "      <td>39.000000</td>\n",
       "      <td>1.000000</td>\n",
       "      <td>1.000000</td>\n",
       "      <td>1.000000</td>\n",
       "      <td>0.000000</td>\n",
       "      <td>0.000000</td>\n",
       "    </tr>\n",
       "    <tr>\n",
       "      <th>25%</th>\n",
       "      <td>19.947192</td>\n",
       "      <td>1.630000</td>\n",
       "      <td>65.473343</td>\n",
       "      <td>2.000000</td>\n",
       "      <td>2.667711</td>\n",
       "      <td>1.603680</td>\n",
       "      <td>0.124505</td>\n",
       "      <td>0.000000</td>\n",
       "    </tr>\n",
       "    <tr>\n",
       "      <th>50%</th>\n",
       "      <td>22.777890</td>\n",
       "      <td>1.700499</td>\n",
       "      <td>83.000000</td>\n",
       "      <td>2.385502</td>\n",
       "      <td>3.000000</td>\n",
       "      <td>2.000000</td>\n",
       "      <td>1.000000</td>\n",
       "      <td>0.625350</td>\n",
       "    </tr>\n",
       "    <tr>\n",
       "      <th>75%</th>\n",
       "      <td>26.000000</td>\n",
       "      <td>1.768464</td>\n",
       "      <td>107.430682</td>\n",
       "      <td>3.000000</td>\n",
       "      <td>3.000000</td>\n",
       "      <td>2.480485</td>\n",
       "      <td>1.666678</td>\n",
       "      <td>1.000000</td>\n",
       "    </tr>\n",
       "    <tr>\n",
       "      <th>max</th>\n",
       "      <td>61.000000</td>\n",
       "      <td>1.980000</td>\n",
       "      <td>173.000000</td>\n",
       "      <td>3.000000</td>\n",
       "      <td>4.000000</td>\n",
       "      <td>3.000000</td>\n",
       "      <td>3.000000</td>\n",
       "      <td>2.000000</td>\n",
       "    </tr>\n",
       "  </tbody>\n",
       "</table>\n",
       "</div>"
      ],
      "text/plain": [
       "               Age       Height       Weight         FCVC          NCP  \\\n",
       "count  2111.000000  2111.000000  2111.000000  2111.000000  2101.000000   \n",
       "mean     24.312600     1.701677    86.586058     2.419043     2.687674   \n",
       "std       6.345968     0.093305    26.191172     0.533927     0.777083   \n",
       "min      14.000000     1.450000    39.000000     1.000000     1.000000   \n",
       "25%      19.947192     1.630000    65.473343     2.000000     2.667711   \n",
       "50%      22.777890     1.700499    83.000000     2.385502     3.000000   \n",
       "75%      26.000000     1.768464   107.430682     3.000000     3.000000   \n",
       "max      61.000000     1.980000   173.000000     3.000000     4.000000   \n",
       "\n",
       "              CH2O          FAF          TUE  \n",
       "count  1982.000000  2111.000000  2111.000000  \n",
       "mean      2.008120     1.010298     0.657866  \n",
       "std       0.613392     0.850592     0.608927  \n",
       "min       1.000000     0.000000     0.000000  \n",
       "25%       1.603680     0.124505     0.000000  \n",
       "50%       2.000000     1.000000     0.625350  \n",
       "75%       2.480485     1.666678     1.000000  \n",
       "max       3.000000     3.000000     2.000000  "
      ]
     },
     "execution_count": 4,
     "metadata": {},
     "output_type": "execute_result"
    }
   ],
   "source": [
    "df.describe()"
   ]
  },
  {
   "cell_type": "code",
   "execution_count": 5,
   "metadata": {},
   "outputs": [
    {
     "name": "stdout",
     "output_type": "stream",
     "text": [
      "<class 'pandas.core.frame.DataFrame'>\n",
      "RangeIndex: 2111 entries, 0 to 2110\n",
      "Data columns (total 17 columns):\n",
      " #   Column                          Non-Null Count  Dtype  \n",
      "---  ------                          --------------  -----  \n",
      " 0   Gender                          2111 non-null   object \n",
      " 1   Age                             2111 non-null   float64\n",
      " 2   Height                          2111 non-null   float64\n",
      " 3   Weight                          2111 non-null   float64\n",
      " 4   family_history_with_overweight  2107 non-null   object \n",
      " 5   FAVC                            2111 non-null   object \n",
      " 6   FCVC                            2111 non-null   float64\n",
      " 7   NCP                             2101 non-null   float64\n",
      " 8   CAEC                            2111 non-null   object \n",
      " 9   SMOKE                           2111 non-null   object \n",
      " 10  CH2O                            1982 non-null   float64\n",
      " 11  SCC                             2111 non-null   object \n",
      " 12  FAF                             2111 non-null   float64\n",
      " 13  TUE                             2111 non-null   float64\n",
      " 14  CALC                            2098 non-null   object \n",
      " 15  MTRANS                          2075 non-null   object \n",
      " 16  NObesity                        2111 non-null   object \n",
      "dtypes: float64(8), object(9)\n",
      "memory usage: 280.5+ KB\n"
     ]
    }
   ],
   "source": [
    "df.info()"
   ]
  },
  {
   "cell_type": "code",
   "execution_count": 6,
   "metadata": {},
   "outputs": [
    {
     "data": {
      "text/plain": [
       "CH2O                              129\n",
       "MTRANS                             36\n",
       "CALC                               13\n",
       "NCP                                10\n",
       "family_history_with_overweight      4\n",
       "NObesity                            0\n",
       "FAVC                                0\n",
       "Age                                 0\n",
       "Height                              0\n",
       "Weight                              0\n",
       "CAEC                                0\n",
       "FCVC                                0\n",
       "SMOKE                               0\n",
       "SCC                                 0\n",
       "FAF                                 0\n",
       "TUE                                 0\n",
       "Gender                              0\n",
       "dtype: int64"
      ]
     },
     "execution_count": 6,
     "metadata": {},
     "output_type": "execute_result"
    }
   ],
   "source": [
    "df.isnull().sum().sort_values(ascending = False)"
   ]
  },
  {
   "cell_type": "code",
   "execution_count": 7,
   "metadata": {},
   "outputs": [
    {
     "data": {
      "text/html": [
       "<div>\n",
       "<style scoped>\n",
       "    .dataframe tbody tr th:only-of-type {\n",
       "        vertical-align: middle;\n",
       "    }\n",
       "\n",
       "    .dataframe tbody tr th {\n",
       "        vertical-align: top;\n",
       "    }\n",
       "\n",
       "    .dataframe thead th {\n",
       "        text-align: right;\n",
       "    }\n",
       "</style>\n",
       "<table border=\"1\" class=\"dataframe\">\n",
       "  <thead>\n",
       "    <tr style=\"text-align: right;\">\n",
       "      <th></th>\n",
       "      <th>Total</th>\n",
       "      <th>Percent</th>\n",
       "    </tr>\n",
       "  </thead>\n",
       "  <tbody>\n",
       "    <tr>\n",
       "      <th>CH2O</th>\n",
       "      <td>129</td>\n",
       "      <td>6.110848</td>\n",
       "    </tr>\n",
       "    <tr>\n",
       "      <th>MTRANS</th>\n",
       "      <td>36</td>\n",
       "      <td>1.705353</td>\n",
       "    </tr>\n",
       "    <tr>\n",
       "      <th>CALC</th>\n",
       "      <td>13</td>\n",
       "      <td>0.615822</td>\n",
       "    </tr>\n",
       "    <tr>\n",
       "      <th>NCP</th>\n",
       "      <td>10</td>\n",
       "      <td>0.473709</td>\n",
       "    </tr>\n",
       "    <tr>\n",
       "      <th>family_history_with_overweight</th>\n",
       "      <td>4</td>\n",
       "      <td>0.189484</td>\n",
       "    </tr>\n",
       "    <tr>\n",
       "      <th>NObesity</th>\n",
       "      <td>0</td>\n",
       "      <td>0.000000</td>\n",
       "    </tr>\n",
       "    <tr>\n",
       "      <th>FAVC</th>\n",
       "      <td>0</td>\n",
       "      <td>0.000000</td>\n",
       "    </tr>\n",
       "    <tr>\n",
       "      <th>Age</th>\n",
       "      <td>0</td>\n",
       "      <td>0.000000</td>\n",
       "    </tr>\n",
       "    <tr>\n",
       "      <th>Height</th>\n",
       "      <td>0</td>\n",
       "      <td>0.000000</td>\n",
       "    </tr>\n",
       "    <tr>\n",
       "      <th>Weight</th>\n",
       "      <td>0</td>\n",
       "      <td>0.000000</td>\n",
       "    </tr>\n",
       "    <tr>\n",
       "      <th>CAEC</th>\n",
       "      <td>0</td>\n",
       "      <td>0.000000</td>\n",
       "    </tr>\n",
       "    <tr>\n",
       "      <th>FCVC</th>\n",
       "      <td>0</td>\n",
       "      <td>0.000000</td>\n",
       "    </tr>\n",
       "    <tr>\n",
       "      <th>SMOKE</th>\n",
       "      <td>0</td>\n",
       "      <td>0.000000</td>\n",
       "    </tr>\n",
       "    <tr>\n",
       "      <th>SCC</th>\n",
       "      <td>0</td>\n",
       "      <td>0.000000</td>\n",
       "    </tr>\n",
       "    <tr>\n",
       "      <th>FAF</th>\n",
       "      <td>0</td>\n",
       "      <td>0.000000</td>\n",
       "    </tr>\n",
       "    <tr>\n",
       "      <th>TUE</th>\n",
       "      <td>0</td>\n",
       "      <td>0.000000</td>\n",
       "    </tr>\n",
       "    <tr>\n",
       "      <th>Gender</th>\n",
       "      <td>0</td>\n",
       "      <td>0.000000</td>\n",
       "    </tr>\n",
       "  </tbody>\n",
       "</table>\n",
       "</div>"
      ],
      "text/plain": [
       "                                Total   Percent\n",
       "CH2O                              129  6.110848\n",
       "MTRANS                             36  1.705353\n",
       "CALC                               13  0.615822\n",
       "NCP                                10  0.473709\n",
       "family_history_with_overweight      4  0.189484\n",
       "NObesity                            0  0.000000\n",
       "FAVC                                0  0.000000\n",
       "Age                                 0  0.000000\n",
       "Height                              0  0.000000\n",
       "Weight                              0  0.000000\n",
       "CAEC                                0  0.000000\n",
       "FCVC                                0  0.000000\n",
       "SMOKE                               0  0.000000\n",
       "SCC                                 0  0.000000\n",
       "FAF                                 0  0.000000\n",
       "TUE                                 0  0.000000\n",
       "Gender                              0  0.000000"
      ]
     },
     "execution_count": 7,
     "metadata": {},
     "output_type": "execute_result"
    }
   ],
   "source": [
    "# Percentage of missing data\n",
    "total = df.isnull().sum().sort_values(ascending = False)\n",
    "percent = (df.isnull().sum() / len(df)*100).sort_values(ascending = False)\n",
    "missingData = pd.concat([total,percent],axis = 1,keys = ['Total','Percent'])\n",
    "missingData"
   ]
  },
  {
   "cell_type": "markdown",
   "metadata": {},
   "source": [
    "# Exploratory Data Analysis"
   ]
  },
  {
   "cell_type": "code",
   "execution_count": 8,
   "metadata": {},
   "outputs": [
    {
     "data": {
      "text/plain": [
       "<matplotlib.axes._subplots.AxesSubplot at 0x24e7525edf0>"
      ]
     },
     "execution_count": 8,
     "metadata": {},
     "output_type": "execute_result"
    },
    {
     "data": {
      "image/png": "[encoded data removed]",
      "text/plain": [
       "<Figure size 432x288 with 1 Axes>"
      ]
     },
     "metadata": {
      "needs_background": "light"
     },
     "output_type": "display_data"
    }
   ],
   "source": [
    "#target : NObesity\n",
    "df['NObesity'].value_counts().plot(kind = 'bar')"
   ]
  },
  {
   "cell_type": "code",
   "execution_count": 9,
   "metadata": {},
   "outputs": [
    {
     "data": {
      "image/png": "[encoded data removed]",
      "text/plain": [
       "<Figure size 1440x1440 with 17 Axes>"
      ]
     },
     "metadata": {
      "needs_background": "light"
     },
     "output_type": "display_data"
    }
   ],
   "source": [
    "def draw_histograms(dataframe, features, rows, cols):\n",
    "    fig=plt.figure(figsize=(20,20))\n",
    "    for i, feature in enumerate(features):\n",
    "        ax=fig.add_subplot(rows,cols,i+1)\n",
    "        dataframe[feature].hist(bins=20,ax=ax,facecolor='midnightblue')\n",
    "        ax.set_title(feature+\" Distribution\",color='DarkRed')\n",
    "        \n",
    "    fig.tight_layout()  \n",
    "    plt.show()\n",
    "draw_histograms(df,df.columns,6,3)"
   ]
  },
  {
   "cell_type": "code",
   "execution_count": 10,
   "metadata": {},
   "outputs": [
    {
     "data": {
      "image/png": "[encoded data removed]",
      "text/plain": [
       "<Figure size 1008x864 with 2 Axes>"
      ]
     },
     "metadata": {
      "needs_background": "light"
     },
     "output_type": "display_data"
    }
   ],
   "source": [
    "def correlation_heatmap(dataframe):\n",
    "    _ , ax = plt.subplots(figsize =(14, 12))\n",
    "    colormap = sns.diverging_palette(220, 10, as_cmap = True)\n",
    "    \n",
    "    _ = sns.heatmap(\n",
    "        dataframe.corr(), \n",
    "        cmap = \"YlGn\",\n",
    "        square=True, \n",
    "        cbar_kws={'shrink':.9 }, \n",
    "        ax=ax,\n",
    "        annot=True, \n",
    "        linewidths=0.1,vmax=1.0, linecolor='white',\n",
    "        annot_kws={'fontsize':12 }\n",
    "    )\n",
    "    \n",
    "    plt.title('Pearson Correlation of Features', y=1.05, size=15)\n",
    "\n",
    "correlation_heatmap(df)"
   ]
  },
  {
   "cell_type": "markdown",
   "metadata": {},
   "source": [
    "# Data Transformation\n",
    "\n",
    "- Categorical columns: family_history_with_overweight,CALC and MTRANS have missing values in their columns therefore we replace the missing values with mode of the respective columns.\n",
    "- Column CH2O has missing values therefore we replace the missing values with mean as the distribution is normal.\n",
    "- Column NCP has missing values therefore we replace the missing values with median as the distribution is skewed.\n",
    "- For columns Gender, family_history_with_overweight, FAVC, SMOKE, SCC and NObesity  we will use mapping technique.\n",
    "- For columns CAEC, CALC and MTRANS we will use one hot encoding."
   ]
  },
  {
   "cell_type": "code",
   "execution_count": 11,
   "metadata": {},
   "outputs": [],
   "source": [
    "df['family_history_with_overweight'].fillna(df['family_history_with_overweight'].mode()[0], inplace=True)\n",
    "df['CALC'].fillna(df['CALC'].mode()[0], inplace=True)\n",
    "df['MTRANS'].fillna(df['MTRANS'].mode()[0], inplace=True)"
   ]
  },
  {
   "cell_type": "code",
   "execution_count": 12,
   "metadata": {},
   "outputs": [],
   "source": [
    "df['CH2O'] = df['CH2O'].fillna((df['CH2O'].mean()))"
   ]
  },
  {
   "cell_type": "code",
   "execution_count": 13,
   "metadata": {},
   "outputs": [],
   "source": [
    "df['NCP'] = df['NCP'].fillna((df['NCP'].median()))"
   ]
  },
  {
   "cell_type": "code",
   "execution_count": 14,
   "metadata": {},
   "outputs": [],
   "source": [
    "df['Gender'] = df['Gender'].map( {'Female': 0, 'Male': 1} ).astype(int)\n",
    "df['FAVC'] = df['FAVC'].map( {'yes': 0, 'no': 1} ).astype(int)\n",
    "df['SMOKE'] = df['SMOKE'].map( {'yes': 0, 'no': 1} ).astype(int)\n",
    "df['SCC'] = df['SCC'].map( {'yes': 0, 'no': 1} ).astype(int)\n",
    "df['family_history_with_overweight'] = df['family_history_with_overweight'].map( {'yes': 0, 'no': 1} ).astype(int)\n",
    "df['NObesity'] = df['NObesity'].map( {'Insufficient_Weight': 0, 'Normal_Weight': 1,'Obesity_Type_I': 2, 'Obesity_Type_II': 3,'Obesity_Type_III': 4, 'Overweight_Level_I': 5,'Overweight_Level_II': 6} ).astype(int)"
   ]
  },
  {
   "cell_type": "code",
   "execution_count": 15,
   "metadata": {},
   "outputs": [],
   "source": [
    "cols = pd.get_dummies(df['CAEC'], prefix= 'CAEC')\n",
    "df[cols.columns] = cols\n",
    "df.drop('CAEC', axis = 1, inplace = True)"
   ]
  },
  {
   "cell_type": "code",
   "execution_count": 16,
   "metadata": {},
   "outputs": [],
   "source": [
    "cols = pd.get_dummies(df['CALC'], prefix= 'CALC')\n",
    "df[cols.columns] = cols\n",
    "df.drop('CALC', axis = 1, inplace = True)"
   ]
  },
  {
   "cell_type": "code",
   "execution_count": 17,
   "metadata": {},
   "outputs": [],
   "source": [
    "cols = pd.get_dummies(df['MTRANS'], prefix= 'MTRANS')\n",
    "df[cols.columns] = cols\n",
    "df.drop('MTRANS', axis = 1, inplace = True)"
   ]
  },
  {
   "cell_type": "markdown",
   "metadata": {},
   "source": [
    "# Final dataset after data preparation\n"
   ]
  },
  {
   "cell_type": "code",
   "execution_count": 18,
   "metadata": {},
   "outputs": [
    {
     "name": "stdout",
     "output_type": "stream",
     "text": [
      "<class 'pandas.core.frame.DataFrame'>\n",
      "RangeIndex: 2111 entries, 0 to 2110\n",
      "Data columns (total 27 columns):\n",
      " #   Column                          Non-Null Count  Dtype  \n",
      "---  ------                          --------------  -----  \n",
      " 0   Gender                          2111 non-null   int32  \n",
      " 1   Age                             2111 non-null   float64\n",
      " 2   Height                          2111 non-null   float64\n",
      " 3   Weight                          2111 non-null   float64\n",
      " 4   family_history_with_overweight  2111 non-null   int32  \n",
      " 5   FAVC                            2111 non-null   int32  \n",
      " 6   FCVC                            2111 non-null   float64\n",
      " 7   NCP                             2111 non-null   float64\n",
      " 8   SMOKE                           2111 non-null   int32  \n",
      " 9   CH2O                            2111 non-null   float64\n",
      " 10  SCC                             2111 non-null   int32  \n",
      " 11  FAF                             2111 non-null   float64\n",
      " 12  TUE                             2111 non-null   float64\n",
      " 13  NObesity                        2111 non-null   int32  \n",
      " 14  CAEC_Always                     2111 non-null   uint8  \n",
      " 15  CAEC_Frequently                 2111 non-null   uint8  \n",
      " 16  CAEC_Sometimes                  2111 non-null   uint8  \n",
      " 17  CAEC_no                         2111 non-null   uint8  \n",
      " 18  CALC_Always                     2111 non-null   uint8  \n",
      " 19  CALC_Frequently                 2111 non-null   uint8  \n",
      " 20  CALC_Sometimes                  2111 non-null   uint8  \n",
      " 21  CALC_no                         2111 non-null   uint8  \n",
      " 22  MTRANS_Automobile               2111 non-null   uint8  \n",
      " 23  MTRANS_Bike                     2111 non-null   uint8  \n",
      " 24  MTRANS_Motorbike                2111 non-null   uint8  \n",
      " 25  MTRANS_Public_Transportation    2111 non-null   uint8  \n",
      " 26  MTRANS_Walking                  2111 non-null   uint8  \n",
      "dtypes: float64(8), int32(6), uint8(13)\n",
      "memory usage: 208.3 KB\n"
     ]
    }
   ],
   "source": [
    "df.info()"
   ]
  },
  {
   "cell_type": "code",
   "execution_count": 19,
   "metadata": {},
   "outputs": [
    {
     "data": {
      "text/html": [
       "<div>\n",
       "<style scoped>\n",
       "    .dataframe tbody tr th:only-of-type {\n",
       "        vertical-align: middle;\n",
       "    }\n",
       "\n",
       "    .dataframe tbody tr th {\n",
       "        vertical-align: top;\n",
       "    }\n",
       "\n",
       "    .dataframe thead th {\n",
       "        text-align: right;\n",
       "    }\n",
       "</style>\n",
       "<table border=\"1\" class=\"dataframe\">\n",
       "  <thead>\n",
       "    <tr style=\"text-align: right;\">\n",
       "      <th></th>\n",
       "      <th>Gender</th>\n",
       "      <th>Age</th>\n",
       "      <th>Height</th>\n",
       "      <th>Weight</th>\n",
       "      <th>family_history_with_overweight</th>\n",
       "      <th>FAVC</th>\n",
       "      <th>FCVC</th>\n",
       "      <th>NCP</th>\n",
       "      <th>SMOKE</th>\n",
       "      <th>CH2O</th>\n",
       "      <th>...</th>\n",
       "      <th>CAEC_no</th>\n",
       "      <th>CALC_Always</th>\n",
       "      <th>CALC_Frequently</th>\n",
       "      <th>CALC_Sometimes</th>\n",
       "      <th>CALC_no</th>\n",
       "      <th>MTRANS_Automobile</th>\n",
       "      <th>MTRANS_Bike</th>\n",
       "      <th>MTRANS_Motorbike</th>\n",
       "      <th>MTRANS_Public_Transportation</th>\n",
       "      <th>MTRANS_Walking</th>\n",
       "    </tr>\n",
       "  </thead>\n",
       "  <tbody>\n",
       "    <tr>\n",
       "      <th>0</th>\n",
       "      <td>0</td>\n",
       "      <td>21.0</td>\n",
       "      <td>1.62</td>\n",
       "      <td>64.0</td>\n",
       "      <td>0</td>\n",
       "      <td>1</td>\n",
       "      <td>2.0</td>\n",
       "      <td>3.0</td>\n",
       "      <td>1</td>\n",
       "      <td>2.0</td>\n",
       "      <td>...</td>\n",
       "      <td>0</td>\n",
       "      <td>0</td>\n",
       "      <td>0</td>\n",
       "      <td>0</td>\n",
       "      <td>1</td>\n",
       "      <td>0</td>\n",
       "      <td>0</td>\n",
       "      <td>0</td>\n",
       "      <td>1</td>\n",
       "      <td>0</td>\n",
       "    </tr>\n",
       "    <tr>\n",
       "      <th>1</th>\n",
       "      <td>0</td>\n",
       "      <td>21.0</td>\n",
       "      <td>1.52</td>\n",
       "      <td>56.0</td>\n",
       "      <td>0</td>\n",
       "      <td>1</td>\n",
       "      <td>3.0</td>\n",
       "      <td>3.0</td>\n",
       "      <td>0</td>\n",
       "      <td>3.0</td>\n",
       "      <td>...</td>\n",
       "      <td>0</td>\n",
       "      <td>0</td>\n",
       "      <td>0</td>\n",
       "      <td>1</td>\n",
       "      <td>0</td>\n",
       "      <td>0</td>\n",
       "      <td>0</td>\n",
       "      <td>0</td>\n",
       "      <td>1</td>\n",
       "      <td>0</td>\n",
       "    </tr>\n",
       "    <tr>\n",
       "      <th>2</th>\n",
       "      <td>1</td>\n",
       "      <td>23.0</td>\n",
       "      <td>1.80</td>\n",
       "      <td>77.0</td>\n",
       "      <td>0</td>\n",
       "      <td>1</td>\n",
       "      <td>2.0</td>\n",
       "      <td>3.0</td>\n",
       "      <td>1</td>\n",
       "      <td>2.0</td>\n",
       "      <td>...</td>\n",
       "      <td>0</td>\n",
       "      <td>0</td>\n",
       "      <td>1</td>\n",
       "      <td>0</td>\n",
       "      <td>0</td>\n",
       "      <td>0</td>\n",
       "      <td>0</td>\n",
       "      <td>0</td>\n",
       "      <td>1</td>\n",
       "      <td>0</td>\n",
       "    </tr>\n",
       "    <tr>\n",
       "      <th>3</th>\n",
       "      <td>1</td>\n",
       "      <td>27.0</td>\n",
       "      <td>1.80</td>\n",
       "      <td>87.0</td>\n",
       "      <td>1</td>\n",
       "      <td>1</td>\n",
       "      <td>3.0</td>\n",
       "      <td>3.0</td>\n",
       "      <td>1</td>\n",
       "      <td>2.0</td>\n",
       "      <td>...</td>\n",
       "      <td>0</td>\n",
       "      <td>0</td>\n",
       "      <td>1</td>\n",
       "      <td>0</td>\n",
       "      <td>0</td>\n",
       "      <td>0</td>\n",
       "      <td>0</td>\n",
       "      <td>0</td>\n",
       "      <td>0</td>\n",
       "      <td>1</td>\n",
       "    </tr>\n",
       "    <tr>\n",
       "      <th>4</th>\n",
       "      <td>1</td>\n",
       "      <td>22.0</td>\n",
       "      <td>1.78</td>\n",
       "      <td>89.8</td>\n",
       "      <td>1</td>\n",
       "      <td>1</td>\n",
       "      <td>2.0</td>\n",
       "      <td>1.0</td>\n",
       "      <td>1</td>\n",
       "      <td>2.0</td>\n",
       "      <td>...</td>\n",
       "      <td>0</td>\n",
       "      <td>0</td>\n",
       "      <td>0</td>\n",
       "      <td>1</td>\n",
       "      <td>0</td>\n",
       "      <td>0</td>\n",
       "      <td>0</td>\n",
       "      <td>0</td>\n",
       "      <td>1</td>\n",
       "      <td>0</td>\n",
       "    </tr>\n",
       "  </tbody>\n",
       "</table>\n",
       "<p>5 rows × 27 columns</p>\n",
       "</div>"
      ],
      "text/plain": [
       "   Gender   Age  Height  Weight  family_history_with_overweight  FAVC  FCVC  \\\n",
       "0       0  21.0    1.62    64.0                               0     1   2.0   \n",
       "1       0  21.0    1.52    56.0                               0     1   3.0   \n",
       "2       1  23.0    1.80    77.0                               0     1   2.0   \n",
       "3       1  27.0    1.80    87.0                               1     1   3.0   \n",
       "4       1  22.0    1.78    89.8                               1     1   2.0   \n",
       "\n",
       "   NCP  SMOKE  CH2O  ...  CAEC_no  CALC_Always  CALC_Frequently  \\\n",
       "0  3.0      1   2.0  ...        0            0                0   \n",
       "1  3.0      0   3.0  ...        0            0                0   \n",
       "2  3.0      1   2.0  ...        0            0                1   \n",
       "3  3.0      1   2.0  ...        0            0                1   \n",
       "4  1.0      1   2.0  ...        0            0                0   \n",
       "\n",
       "   CALC_Sometimes  CALC_no  MTRANS_Automobile  MTRANS_Bike  MTRANS_Motorbike  \\\n",
       "0               0        1                  0            0                 0   \n",
       "1               1        0                  0            0                 0   \n",
       "2               0        0                  0            0                 0   \n",
       "3               0        0                  0            0                 0   \n",
       "4               1        0                  0            0                 0   \n",
       "\n",
       "   MTRANS_Public_Transportation  MTRANS_Walking  \n",
       "0                             1               0  \n",
       "1                             1               0  \n",
       "2                             1               0  \n",
       "3                             0               1  \n",
       "4                             1               0  \n",
       "\n",
       "[5 rows x 27 columns]"
      ]
     },
     "execution_count": 19,
     "metadata": {},
     "output_type": "execute_result"
    }
   ],
   "source": [
    "df.head()"
   ]
  },
  {
   "cell_type": "markdown",
   "metadata": {},
   "source": [
    "# Splitting the data and scaling\n"
   ]
  },
  {
   "cell_type": "code",
   "execution_count": 20,
   "metadata": {},
   "outputs": [],
   "source": [
    "from sklearn.model_selection import train_test_split\n",
    "\n",
    "X= df.drop(['NObesity'], axis=1)\n",
    "y = df['NObesity']\n",
    "X_train_org, X_test_org, y_train, y_test = train_test_split(X, y, random_state = 0)"
   ]
  },
  {
   "cell_type": "code",
   "execution_count": 21,
   "metadata": {},
   "outputs": [],
   "source": [
    "#The data is not normally distributed within each feature therefore it is good to use MinMaxScaler\n",
    "from sklearn.preprocessing import MinMaxScaler\n",
    "\n",
    "scaler = MinMaxScaler()\n",
    "X_train = scaler.fit_transform(X_train_org)\n",
    "X_test = scaler.transform(X_test_org)"
   ]
  },
  {
   "cell_type": "code",
   "execution_count": 22,
   "metadata": {},
   "outputs": [],
   "source": [
    "# importing libraries \n",
    "from sklearn.model_selection import GridSearchCV\n",
    "from sklearn.metrics import accuracy_score,confusion_matrix,classification_report\n",
    "from sklearn.model_selection import cross_val_score\n",
    "import matplotlib.pyplot as plt"
   ]
  },
  {
   "cell_type": "markdown",
   "metadata": {},
   "source": [
    "## Classification Models "
   ]
  },
  {
   "cell_type": "markdown",
   "metadata": {},
   "source": [
    "The following classifiers are implemented in the next part:\n",
    "- KNN classification\n",
    "- Logistic Regression\n",
    "- Linear Support Vector Machine\n",
    "- Kerenilzed Support Vector Machine - rbf\n",
    "- Kerenilzed Support Vector Machine - poly\n",
    "- Kerenilzed Support Vector Machine - linear\n",
    "- Decision Tree Classifier   \n"
   ]
  },
  {
   "cell_type": "markdown",
   "metadata": {},
   "source": [
    "# KNN classification"
   ]
  },
  {
   "cell_type": "code",
   "execution_count": 78,
   "metadata": {},
   "outputs": [
    {
     "data": {
      "text/plain": [
       "GridSearchCV(cv=10, estimator=KNeighborsClassifier(),\n",
       "             param_grid={'n_neighbors': array([ 1,  2,  3,  4,  5,  6,  7,  8,  9, 10, 11, 12, 13, 14, 15, 16, 17,\n",
       "       18, 19])})"
      ]
     },
     "execution_count": 78,
     "metadata": {},
     "output_type": "execute_result"
    }
   ],
   "source": [
    "from sklearn.neighbors import KNeighborsClassifier\n",
    "#Grid Search\n",
    "knn_classifier = KNeighborsClassifier()\n",
    "parameters = {'n_neighbors': np.arange(1, 20)}\n",
    "\n",
    "#using gridsearch to test all values for n-neighbors\n",
    "knn_grid = GridSearchCV(knn_classifier, param_grid=parameters,cv = 10)\n",
    "\n",
    "#fitting the model\n",
    "knn_grid.fit(X_train, y_train)"
   ]
  },
  {
   "cell_type": "code",
   "execution_count": 118,
   "metadata": {},
   "outputs": [
    {
     "data": {
      "text/plain": [
       "{'n_neighbors': 1}"
      ]
     },
     "execution_count": 118,
     "metadata": {},
     "output_type": "execute_result"
    }
   ],
   "source": [
    "knn_grid.best_params_"
   ]
  },
  {
   "cell_type": "code",
   "execution_count": 227,
   "metadata": {},
   "outputs": [
    {
     "name": "stdout",
     "output_type": "stream",
     "text": [
      "Train score: 1.0000\n",
      "Test score: 0.8030\n"
     ]
    }
   ],
   "source": [
    "KNN_best = KNeighborsClassifier(n_neighbors=1).fit(X_train, y_train)\n",
    "\n",
    "print('Train score: {:.4f}'.format(KNN_best.score(X_train, y_train)))\n",
    "print('Test score: {:.4f}'.format(KNN_best.score(X_test, y_test)))"
   ]
  },
  {
   "cell_type": "code",
   "execution_count": 81,
   "metadata": {},
   "outputs": [
    {
     "name": "stdout",
     "output_type": "stream",
     "text": [
      "Cross validation scores: [0.82389937 0.78616352 0.75471698 0.80379747 0.77848101 0.78481013\n",
      " 0.80379747 0.82911392 0.82278481 0.81012658]\n",
      "Average cross-validation scroe: 0.7998\n"
     ]
    }
   ],
   "source": [
    "#Cross Validation\n",
    "from sklearn.model_selection import cross_val_score\n",
    "cvscore = cross_val_score(knn,X_train,y_train, cv=10)\n",
    "print(\"Cross validation scores: {}\".format(cvscore))\n",
    "print(\"Average cross-validation scroe: {:.4f}\".format(cvscore.mean()))"
   ]
  },
  {
   "cell_type": "markdown",
   "metadata": {},
   "source": [
    " Evaluation: Using Micro average because it is for multiclass classification and Obesity_Type_I has the most number of instances than other labels in the target column.\n"
   ]
  },
  {
   "cell_type": "code",
   "execution_count": 249,
   "metadata": {},
   "outputs": [
    {
     "name": "stdout",
     "output_type": "stream",
     "text": [
      "Precision is: 0.803030303030303\n",
      "Recall is: 0.803030303030303\n",
      "The Train score is:1.0\n",
      "The Test score is:0.803030303030303\n"
     ]
    }
   ],
   "source": [
    "#Evaluation\n",
    "from sklearn.metrics import precision_score\n",
    "from sklearn.metrics import recall_score\n",
    "\n",
    "knn_test_predict = KNN_best.predict(X_test)\n",
    "knn_train_predict=KNN_best.predict(X_train)\n",
    "\n",
    "print('Precision is:' , precision_score(y_test,knn_test_predict, average='micro'))\n",
    "print('Recall is:',recall_score(y_test,knn_test_predict, average='micro'))\n",
    "\n",
    "print('The Train score is:{}'.format(accuracy_score(y_train,knn_train_predict)))\n",
    "print('The Test score is:{}'.format(accuracy_score(y_test,knn_test_predict)))\n"
   ]
  },
  {
   "cell_type": "code",
   "execution_count": 191,
   "metadata": {},
   "outputs": [
    {
     "data": {
      "text/plain": [
       "<matplotlib.legend.Legend at 0x24e7a46d760>"
      ]
     },
     "execution_count": 191,
     "metadata": {},
     "output_type": "execute_result"
    },
    {
     "data": {
      "image/png": "[encoded data removed]",
      "text/plain": [
       "<Figure size 1440x360 with 1 Axes>"
      ]
     },
     "metadata": {
      "needs_background": "light"
     },
     "output_type": "display_data"
    }
   ],
   "source": [
    "train_score_array = []\n",
    "test_score_array = []\n",
    "\n",
    "for k in range(1,20):\n",
    "    knn = KNeighborsClassifier(k)\n",
    "    knn.fit(X_train, y_train)\n",
    "    train_score_array.append(knn.score(X_train, y_train))\n",
    "    test_score_array.append(knn.score(X_test, y_test))\n",
    "    \n",
    "x_axis = range(1,20)\n",
    "%matplotlib inline\n",
    "\n",
    "plt.subplots(figsize = (20,5))\n",
    "plt.plot(x_axis, train_score_array, label = 'Train Score', c = 'g')\n",
    "plt.plot(x_axis, test_score_array, label = 'Test Score', c='b')\n",
    "plt.xlabel('n_neighbors')\n",
    "plt.ylabel('Accuracy')\n",
    "plt.xticks(x_axis, np.arange(20))\n",
    "plt.grid()\n",
    "plt.legend()"
   ]
  },
  {
   "cell_type": "markdown",
   "metadata": {},
   "source": [
    "# Logistic Regression"
   ]
  },
  {
   "cell_type": "code",
   "execution_count": 100,
   "metadata": {},
   "outputs": [],
   "source": [
    "from sklearn.linear_model import LogisticRegression\n",
    "\n",
    "#Grid Search\n",
    "params = {'penalty':['l1','l2'],\n",
    "         'C':[0.01,0.1,1,10,100]}\n",
    "logistic_clf = GridSearchCV(LogisticRegression(),param_grid=params,cv=10)\n",
    "logistic_clf.fit(X_train,y_train)\n"
   ]
  },
  {
   "cell_type": "code",
   "execution_count": 94,
   "metadata": {},
   "outputs": [
    {
     "data": {
      "text/plain": [
       "{'C': 100, 'penalty': 'l2'}"
      ]
     },
     "execution_count": 94,
     "metadata": {},
     "output_type": "execute_result"
    }
   ],
   "source": [
    "logistic_clf.best_params_"
   ]
  },
  {
   "cell_type": "code",
   "execution_count": 228,
   "metadata": {},
   "outputs": [
    {
     "name": "stdout",
     "output_type": "stream",
     "text": [
      "Train score: 0.9065\n",
      "Test score: 0.8996\n"
     ]
    }
   ],
   "source": [
    "LR_best = LogisticRegression(penalty = 'l2', C= 100).fit(X_train,y_train)\n",
    "\n",
    "print('Train score: {:.4f}'.format(LR.score(X_train, y_train)))\n",
    "print('Test score: {:.4f}'.format(LR.score(X_test, y_test)))"
   ]
  },
  {
   "cell_type": "code",
   "execution_count": 96,
   "metadata": {},
   "outputs": [
    {
     "name": "stdout",
     "output_type": "stream",
     "text": [
      "Cross validation scores: [0.90566038 0.85534591 0.88679245 0.87974684 0.86708861 0.82911392\n",
      " 0.86708861 0.86708861 0.92405063 0.8164557 ]\n",
      "Average cross-validation scroe: 0.8698\n"
     ]
    }
   ],
   "source": [
    "#Cross Validation\n",
    "cvscore = cross_val_score(LR_best,X_train,y_train, cv=10)\n",
    "print(\"Cross validation scores: {}\".format(cvscore))\n",
    "print(\"Average cross-validation scroe: {:.4f}\".format(cvscore.mean()))"
   ]
  },
  {
   "cell_type": "code",
   "execution_count": 199,
   "metadata": {},
   "outputs": [
    {
     "name": "stdout",
     "output_type": "stream",
     "text": [
      "Precision is: 0.8996212121212122\n",
      "Recall is: 0.803030303030303\n",
      "The Train score is:0.9065066329753633\n",
      "The Test score is:0.8996212121212122\n"
     ]
    }
   ],
   "source": [
    "#Evaluation\n",
    "from sklearn.metrics import precision_score\n",
    "from sklearn.metrics import recall_score\n",
    "\n",
    "logReg_test_predict = LR_best.predict(X_test)\n",
    "logReg_train_predict=LR_best.predict(X_train)\n",
    "\n",
    "print('Precision is:',precision_score(y_test,logReg_test_predict, average='micro'))\n",
    "print('Recall is:',recall_score(y_test,knn_test_predict, average='micro'))\n",
    "\n",
    "print('The Train score is:{}'.format(accuracy_score(y_train,logReg_train_predict)))\n",
    "print('The Test score is:{}'.format(accuracy_score(y_test,logReg_test_predict)))"
   ]
  },
  {
   "cell_type": "code",
   "execution_count": 192,
   "metadata": {},
   "outputs": [
    {
     "data": {
      "image/png": "[encoded data removed]",
      "text/plain": [
       "<Figure size 1440x360 with 1 Axes>"
      ]
     },
     "metadata": {
      "needs_background": "light"
     },
     "output_type": "display_data"
    }
   ],
   "source": [
    "c_range = [0.001, 0.01, 0.1, 1, 10, 100]\n",
    "train_score_l1 = []\n",
    "train_score_l2 = []\n",
    "test_score_l1 = []\n",
    "test_score_l2 = []\n",
    "\n",
    "for c in c_range:\n",
    "    log_l1 = LogisticRegression(penalty = 'l1', C = c, solver = 'liblinear', max_iter = 500)\n",
    "    log_l2 = LogisticRegression(penalty = 'l2', C = c, solver = 'lbfgs', max_iter = 500)\n",
    "    log_l1.fit(X_train, y_train)\n",
    "    log_l2.fit(X_train, y_train)\n",
    "    train_score_l1.append(log_l1.score(X_train, y_train))\n",
    "    train_score_l2.append(log_l2.score(X_train, y_train))\n",
    "    test_score_l1.append(log_l1.score(X_test, y_test))\n",
    "    test_score_l2.append(log_l2.score(X_test, y_test))\n",
    "    \n",
    "import matplotlib.pyplot as plt\n",
    "%matplotlib inline\n",
    "\n",
    "plt.subplots(figsize = (20,5))\n",
    "plt.plot(c_range, train_score_l1, label = 'Train score, penalty = l1')\n",
    "plt.plot(c_range, test_score_l1, label = 'Test score, penalty = l1')\n",
    "plt.plot(c_range, train_score_l2, label = 'Train score, penalty = l2')\n",
    "plt.plot(c_range, test_score_l2, label = 'Test score, penalty = l2')\n",
    "plt.legend()\n",
    "plt.xlabel('Regularization parameter: C')\n",
    "plt.ylabel('Accuracy')\n",
    "plt.xscale('log')"
   ]
  },
  {
   "cell_type": "markdown",
   "metadata": {},
   "source": [
    "# Linear Support Vector Machine"
   ]
  },
  {
   "cell_type": "code",
   "execution_count": 215,
   "metadata": {},
   "outputs": [],
   "source": [
    "from sklearn.svm import LinearSVC\n",
    "\n",
    "#Grid Search\n",
    "parameters = [{'C':[0.001, 0.01, 0.1, 1, 10, 100]}]\n",
    "               \n",
    "lsvc_grid =GridSearchCV(estimator = lsvc_classifier,\n",
    "                           param_grid = parameters,cv = 10)\n",
    "lsvc_grid = lsvc_grid.fit(X_train,y_train)"
   ]
  },
  {
   "cell_type": "code",
   "execution_count": 216,
   "metadata": {},
   "outputs": [
    {
     "data": {
      "text/plain": [
       "{'C': 10}"
      ]
     },
     "execution_count": 216,
     "metadata": {},
     "output_type": "execute_result"
    }
   ],
   "source": [
    "lsvc_grid.best_params_"
   ]
  },
  {
   "cell_type": "code",
   "execution_count": 229,
   "metadata": {},
   "outputs": [
    {
     "name": "stdout",
     "output_type": "stream",
     "text": [
      "Train score: 0.7764\n",
      "Test score: 0.7860\n"
     ]
    }
   ],
   "source": [
    "SVC = LinearSVC(C=10).fit(X_train,y_train)\n",
    "\n",
    "print('Train score: {:.4f}'.format(SVC.score(X_train, y_train)))\n",
    "print('Test score: {:.4f}'.format(SVC.score(X_test, y_test)))"
   ]
  },
  {
   "cell_type": "code",
   "execution_count": 181,
   "metadata": {},
   "outputs": [
    {
     "name": "stdout",
     "output_type": "stream",
     "text": [
      "Cross validation scores: [0.79874214 0.77987421 0.74842767 0.77848101 0.70886076 0.70253165\n",
      " 0.79746835 0.74050633 0.7721519  0.71518987]\n",
      "Average cross-validation score: 0.7542\n"
     ]
    }
   ],
   "source": [
    "#Cross Validation\n",
    "cvscore = cross_val_score(SVC,X_train,y_train, cv=10)\n",
    "print(\"Cross validation scores: {}\".format(cvscore))\n",
    "print(\"Average cross-validation score: {:.4f}\".format(cvscore.mean()))"
   ]
  },
  {
   "cell_type": "code",
   "execution_count": 200,
   "metadata": {},
   "outputs": [
    {
     "name": "stdout",
     "output_type": "stream",
     "text": [
      "Precision is: 0.7840909090909091\n",
      "Recall is: 0.7840909090909091\n",
      "The Train score is:0.7751105495893872\n",
      "The Test score is:0.7840909090909091\n"
     ]
    }
   ],
   "source": [
    "#Evaluation\n",
    "from sklearn.metrics import precision_score\n",
    "from sklearn.metrics import recall_score\n",
    "\n",
    "Lsvc_test_predict = SVC.predict(X_test)\n",
    "Lsvc_train_predict=SVC.predict(X_train)\n",
    "\n",
    "print('Precision is:',precision_score(y_test,Lsvc_test_predict, average='micro'))\n",
    "print('Recall is:',recall_score(y_test,Lsvc_test_predict, average='micro'))\n",
    "\n",
    "print('The Train score is:{}'.format(accuracy_score(y_train,Lsvc_train_predict)))\n",
    "print('The Test score is:{}'.format(accuracy_score(y_test,Lsvc_test_predict)))\n"
   ]
  },
  {
   "cell_type": "code",
   "execution_count": 193,
   "metadata": {},
   "outputs": [
    {
     "data": {
      "text/plain": [
       "Text(0, 0.5, 'Accuracy')"
      ]
     },
     "execution_count": 193,
     "metadata": {},
     "output_type": "execute_result"
    },
    {
     "data": {
      "image/png": "[encoded data removed]",
      "text/plain": [
       "<Figure size 432x288 with 1 Axes>"
      ]
     },
     "metadata": {
      "needs_background": "light"
     },
     "output_type": "display_data"
    }
   ],
   "source": [
    "train_score_array = []\n",
    "test_score_array = []\n",
    "x_range = [0.001, 0.01, 0.1, 1, 10, 100]\n",
    "\n",
    "for alpha in x_range: \n",
    "    lsvc_classifier = LinearSVC(C=alpha, random_state=0)\n",
    "    lsvc_classifier.fit(X_train, y_train)\n",
    "    train_score_array.append(lsvc_classifier.score(X_train, y_train))\n",
    "    test_score_array.append(lsvc_classifier.score(X_test, y_test))\n",
    "\n",
    "plt.plot(x_range, train_score_array, c = 'g', label = 'Train Score')\n",
    "plt.plot(x_range, test_score_array, c = 'b', label = 'Test Score')\n",
    "plt.xscale('log')\n",
    "plt.xlabel('Regularization parameter: C')\n",
    "plt.legend()\n",
    "plt.xlabel('C')\n",
    "plt.ylabel('Accuracy')"
   ]
  },
  {
   "cell_type": "markdown",
   "metadata": {},
   "source": [
    "# Kerenilzed Support Vector Machine - rbf"
   ]
  },
  {
   "cell_type": "code",
   "execution_count": 231,
   "metadata": {},
   "outputs": [
    {
     "data": {
      "text/plain": [
       "GridSearchCV(cv=10, estimator=SVC(max_iter=10000),\n",
       "             param_grid={'C': [0.001, 0.01, 0.1, 1, 10],\n",
       "                         'gamma': [10, 1, 0.1, 0.01, 0.001],\n",
       "                         'kernel': ['rbf']})"
      ]
     },
     "execution_count": 231,
     "metadata": {},
     "output_type": "execute_result"
    }
   ],
   "source": [
    "from sklearn.svm import SVC \n",
    "\n",
    "#Grid Search\n",
    "KernelSVC = SVC(max_iter=10000)\n",
    "rbf_params = {'C':[0.001, 0.01, 0.1, 1, 10],'gamma':[10,1,0.1,0.01,0.001], 'kernel':['rbf']}\n",
    "KernelSVC_clf = GridSearchCV(KernelSVC, rbf_params,cv=10)\n",
    "KernelSVC_clf.fit(X_train,y_train)"
   ]
  },
  {
   "cell_type": "code",
   "execution_count": 232,
   "metadata": {},
   "outputs": [
    {
     "data": {
      "text/plain": [
       "{'C': 10, 'gamma': 0.1, 'kernel': 'rbf'}"
      ]
     },
     "execution_count": 232,
     "metadata": {},
     "output_type": "execute_result"
    }
   ],
   "source": [
    "KernelSVC_clf.best_params_"
   ]
  },
  {
   "cell_type": "code",
   "execution_count": 233,
   "metadata": {},
   "outputs": [
    {
     "name": "stdout",
     "output_type": "stream",
     "text": [
      "Train score: 0.9311\n",
      "Test score: 0.8693\n"
     ]
    }
   ],
   "source": [
    "kernel_rbf_best= SVC(kernel='rbf', C= 10, gamma= 0.1).fit(X_train,y_train)\n",
    "\n",
    "print('Train score: {:.4f}'.format(kernel_rbf_best.score(X_train, y_train)))\n",
    "print('Test score: {:.4f}'.format(kernel_rbf_best.score(X_test, y_test)))"
   ]
  },
  {
   "cell_type": "code",
   "execution_count": 132,
   "metadata": {},
   "outputs": [
    {
     "name": "stdout",
     "output_type": "stream",
     "text": [
      "Cross validation scores: [0.91194969 0.83647799 0.88050314 0.87341772 0.87341772 0.81012658\n",
      " 0.82278481 0.87974684 0.88607595 0.86075949]\n",
      "Average cross-validation score: 0.8635\n"
     ]
    }
   ],
   "source": [
    "#Cross Validation\n",
    "cvscore = cross_val_score(SVC(kernel='rbf',C=10,gamma=0.1),X_train,y_train, cv=10)\n",
    "print(\"Cross validation scores: {}\".format(cvscore))\n",
    "print(\"Average cross-validation score: {:.4f}\".format(cvscore.mean()))"
   ]
  },
  {
   "cell_type": "code",
   "execution_count": 201,
   "metadata": {},
   "outputs": [
    {
     "name": "stdout",
     "output_type": "stream",
     "text": [
      "Precision is: 0.8693181818181818\n",
      "Recall is: 0.8693181818181818\n",
      "The Train score is:0.9311433986102338\n",
      "The Test score is:0.8693181818181818\n"
     ]
    }
   ],
   "source": [
    "#Evaluation\n",
    "from sklearn.metrics import precision_score\n",
    "from sklearn.metrics import recall_score\n",
    "\n",
    "rbf_test_predict = kernel_rbf_best.predict(X_test)\n",
    "rbf_train_predict=kernel_rbf_best.predict(X_train)\n",
    "\n",
    "print('Precision is:',precision_score(y_test,rbf_test_predict, average='micro'))\n",
    "print('Recall is:',recall_score(y_test,rbf_test_predict, average='micro'))\n",
    "\n",
    "print('The Train score is:{}'.format(accuracy_score(y_train,rbf_train_predict)))\n",
    "print('The Test score is:{}'.format(accuracy_score(y_test,rbf_test_predict)))    "
   ]
  },
  {
   "cell_type": "code",
   "execution_count": 134,
   "metadata": {},
   "outputs": [],
   "source": [
    "train_score_array = []\n",
    "test_score_array = []\n",
    "x_range = [0.001, 0.01, 0.1, 1, 10]\n",
    "\n",
    "for alpha in x_range: \n",
    "    rsvc_classifier = SVC(kernel='rbf',C=alpha,gamma=0.1)\n",
    "    rsvc_classifier.fit(X_train, y_train)\n",
    "    train_score_array.append(rsvc_classifier.score(X_train, y_train))\n",
    "    test_score_array.append(rsvc_classifier.score(X_test, y_test))"
   ]
  },
  {
   "cell_type": "code",
   "execution_count": 135,
   "metadata": {},
   "outputs": [
    {
     "data": {
      "text/plain": [
       "Text(0.5, 0, 'Regularization parameter: C')"
      ]
     },
     "execution_count": 135,
     "metadata": {},
     "output_type": "execute_result"
    },
    {
     "data": {
      "image/png": "[encoded data removed]",
      "text/plain": [
       "<Figure size 432x288 with 1 Axes>"
      ]
     },
     "metadata": {
      "needs_background": "light"
     },
     "output_type": "display_data"
    }
   ],
   "source": [
    "plt.plot(x_range, train_score_array, c = 'g', label = 'Train Score')\n",
    "plt.plot(x_range, test_score_array, c = 'b', label = 'Test Score')\n",
    "plt.xscale('log')\n",
    "plt.legend()\n",
    "plt.xlabel('C')\n",
    "plt.ylabel('Accuracy')\n",
    "plt.xlabel('Regularization parameter: C')"
   ]
  },
  {
   "cell_type": "markdown",
   "metadata": {},
   "source": [
    "# Kerenilzed Support Vector Machine - poly"
   ]
  },
  {
   "cell_type": "code",
   "execution_count": 221,
   "metadata": {},
   "outputs": [
    {
     "data": {
      "text/plain": [
       "GridSearchCV(cv=10, estimator=SVC(max_iter=10000),\n",
       "             param_grid={'C': [0.001, 0.01, 0.1, 1, 10],\n",
       "                         'gamma': [10, 1, 0.1, 0.01, 0.001],\n",
       "                         'kernel': ['poly']})"
      ]
     },
     "execution_count": 221,
     "metadata": {},
     "output_type": "execute_result"
    }
   ],
   "source": [
    "from sklearn.svm import SVC\n",
    "\n",
    "#Grid Search\n",
    "KernelSVC = SVC(max_iter=10000)\n",
    "poly_params = {'C':[0.001, 0.01, 0.1, 1, 10],'gamma':[10,1,0.1,0.01,0.001], 'kernel':['poly']}\n",
    "KernelSVC_clf = GridSearchCV(KernelSVC, poly_params,cv=10)\n",
    "KernelSVC_clf.fit(X_train,y_train)"
   ]
  },
  {
   "cell_type": "code",
   "execution_count": 222,
   "metadata": {},
   "outputs": [
    {
     "data": {
      "text/plain": [
       "{'C': 0.001, 'gamma': 10, 'kernel': 'poly'}"
      ]
     },
     "execution_count": 222,
     "metadata": {},
     "output_type": "execute_result"
    }
   ],
   "source": [
    "KernelSVC_clf.best_params_"
   ]
  },
  {
   "cell_type": "code",
   "execution_count": 234,
   "metadata": {},
   "outputs": [
    {
     "name": "stdout",
     "output_type": "stream",
     "text": [
      "Train score: 1.0000\n",
      "Test score: 0.9280\n"
     ]
    }
   ],
   "source": [
    "kernel_poly_best= SVC(kernel='poly', C= 0.001, gamma= 10).fit(X_train,y_train)\n",
    "\n",
    "print('Train score: {:.4f}'.format(kernel_poly_best.score(X_train, y_train)))\n",
    "print('Test score: {:.4f}'.format(kernel_poly_best.score(X_test, y_test)))"
   ]
  },
  {
   "cell_type": "code",
   "execution_count": 139,
   "metadata": {},
   "outputs": [
    {
     "name": "stdout",
     "output_type": "stream",
     "text": [
      "Cross validation scores: [0.93081761 0.91823899 0.96226415 0.94936709 0.91139241 0.92405063\n",
      " 0.88607595 0.94936709 0.94303797 0.90506329]\n",
      "Average cross-validation score: 0.9280\n"
     ]
    }
   ],
   "source": [
    "#Cross Validation\n",
    "cvscore = cross_val_score(kernel_poly_best,X_train,y_train, cv=10)\n",
    "print(\"Cross validation scores: {}\".format(cvscore))\n",
    "print(\"Average cross-validation score: {:.4f}\".format(cvscore.mean()))"
   ]
  },
  {
   "cell_type": "code",
   "execution_count": 202,
   "metadata": {},
   "outputs": [
    {
     "name": "stdout",
     "output_type": "stream",
     "text": [
      "Precision is: 0.928030303030303\n",
      "Recall is: 0.928030303030303\n",
      "The Train score is:1.0\n",
      "The Test score is:0.928030303030303\n"
     ]
    }
   ],
   "source": [
    "#Evaluation\n",
    "from sklearn.metrics import precision_score\n",
    "from sklearn.metrics import recall_score\n",
    "\n",
    "poly_test_predict = kernel_poly_best.predict(X_test)\n",
    "poly_train_predict=kernel_poly_best.predict(X_train)\n",
    "\n",
    "print('Precision is:',precision_score(y_test,poly_test_predict, average='micro'))\n",
    "print('Recall is:',recall_score(y_test,poly_test_predict, average='micro'))\n",
    "\n",
    "print('The Train score is:{}'.format(accuracy_score(y_train,poly_train_predict)))\n",
    "print('The Test score is:{}'.format(accuracy_score(y_test,poly_test_predict)))"
   ]
  },
  {
   "cell_type": "code",
   "execution_count": 142,
   "metadata": {},
   "outputs": [],
   "source": [
    "train_score_array = []\n",
    "test_score_array = []\n",
    "x_range = [0.001, 0.01, 0.1, 1, 10]\n",
    "\n",
    "for alpha in x_range: \n",
    "    psvc_classifier = SVC(kernel='poly',C=alpha,degree=1)\n",
    "    psvc_classifier.fit(X_train, y_train)\n",
    "    train_score_array.append(psvc_classifier.score(X_train, y_train))\n",
    "    test_score_array.append(psvc_classifier.score(X_test, y_test))"
   ]
  },
  {
   "cell_type": "code",
   "execution_count": 143,
   "metadata": {},
   "outputs": [
    {
     "data": {
      "text/plain": [
       "Text(0.5, 0, 'Regularization parameter: C')"
      ]
     },
     "execution_count": 143,
     "metadata": {},
     "output_type": "execute_result"
    },
    {
     "data": {
      "image/png": "[encoded data removed]",
      "text/plain": [
       "<Figure size 432x288 with 1 Axes>"
      ]
     },
     "metadata": {
      "needs_background": "light"
     },
     "output_type": "display_data"
    }
   ],
   "source": [
    "plt.plot(x_range, train_score_array, c = 'g', label = 'Train Score')\n",
    "plt.plot(x_range, test_score_array, c = 'b', label = 'Test Score')\n",
    "plt.xscale('log')\n",
    "plt.legend()\n",
    "plt.xlabel('C')\n",
    "plt.ylabel('Accuracy')\n",
    "plt.xlabel('Regularization parameter: C')"
   ]
  },
  {
   "cell_type": "markdown",
   "metadata": {},
   "source": [
    "# Kerenilzed Support Vector Machine - linear"
   ]
  },
  {
   "cell_type": "code",
   "execution_count": 209,
   "metadata": {},
   "outputs": [
    {
     "data": {
      "text/plain": [
       "GridSearchCV(cv=10, estimator=SVC(max_iter=10000),\n",
       "             param_grid={'C': [0.001, 0.01, 0.1, 1, 10],\n",
       "                         'gamma': [10, 1, 0.1, 0.01, 0.001],\n",
       "                         'kernel': ['linear']})"
      ]
     },
     "execution_count": 209,
     "metadata": {},
     "output_type": "execute_result"
    }
   ],
   "source": [
    "from sklearn.svm import SVC \n",
    "#Grid Search\n",
    "KernelSVC = SVC(max_iter=10000)\n",
    "linear_params = {'C':[0.001, 0.01, 0.1, 1, 10],'gamma':[10,1,0.1,0.01,0.001], 'kernel':['linear']}\n",
    "KernelSVC_clf = GridSearchCV(KernelSVC, linear_params,cv=10)\n",
    "KernelSVC_clf.fit(X_train,y_train)"
   ]
  },
  {
   "cell_type": "code",
   "execution_count": 210,
   "metadata": {},
   "outputs": [
    {
     "data": {
      "text/plain": [
       "{'C': 10, 'gamma': 10, 'kernel': 'linear'}"
      ]
     },
     "execution_count": 210,
     "metadata": {},
     "output_type": "execute_result"
    }
   ],
   "source": [
    "KernelSVC_clf.best_params_"
   ]
  },
  {
   "cell_type": "code",
   "execution_count": 235,
   "metadata": {},
   "outputs": [
    {
     "name": "stdout",
     "output_type": "stream",
     "text": [
      "Train score: 0.9495\n",
      "Test score: 0.9394\n"
     ]
    }
   ],
   "source": [
    "kernel_linear_best= SVC(kernel='linear', C= 10, gamma= 10).fit(X_train,y_train)\n",
    "\n",
    "print('Train score: {:.4f}'.format(kernel_linear_best.score(X_train, y_train)))\n",
    "print('Test score: {:.4f}'.format(kernel_linear_best.score(X_test, y_test)))"
   ]
  },
  {
   "cell_type": "code",
   "execution_count": 247,
   "metadata": {},
   "outputs": [
    {
     "name": "stdout",
     "output_type": "stream",
     "text": [
      "Cross validation scores: [0.93081761 0.9245283  0.94339623 0.93670886 0.91772152 0.90506329\n",
      " 0.92405063 0.93670886 0.97468354 0.91139241]\n",
      "Average cross-validation score: 0.9305\n"
     ]
    }
   ],
   "source": [
    "#Cross Validation\n",
    "cvscore = cross_val_score(kernel_linear_best,X_train,y_train, cv=10)\n",
    "print(\"Cross validation scores: {}\".format(cvscore))\n",
    "print(\"Average cross-validation score: {:.4f}\".format(cvscore.mean()))"
   ]
  },
  {
   "cell_type": "code",
   "execution_count": 203,
   "metadata": {},
   "outputs": [
    {
     "name": "stdout",
     "output_type": "stream",
     "text": [
      "Precision is: 0.9393939393939394\n",
      "Recall is: 0.9393939393939394\n",
      "The Train score is:0.9494630448515476\n",
      "The Test score is:0.9393939393939394\n"
     ]
    }
   ],
   "source": [
    "#Evaluation\n",
    "from sklearn.metrics import precision_score\n",
    "from sklearn.metrics import recall_score\n",
    "\n",
    "linear_test_predict = kernel_linear_best.predict(X_test)\n",
    "linear_train_predict=kernel_linear_best.predict(X_train)\n",
    "\n",
    "print('Precision is:',precision_score(y_test,linear_test_predict, average='micro'))\n",
    "print('Recall is:',recall_score(y_test,linear_test_predict, average='micro'))\n",
    "\n",
    "print('The Train score is:{}'.format(accuracy_score(y_train,linear_train_predict)))\n",
    "print('The Test score is:{}'.format(accuracy_score(y_test,linear_test_predict)))"
   ]
  },
  {
   "cell_type": "code",
   "execution_count": 153,
   "metadata": {},
   "outputs": [],
   "source": [
    "train_score_array = []\n",
    "test_score_array = []\n",
    "x_range = [0.001, 0.01, 0.1, 1, 10]\n",
    "\n",
    "for alpha in x_range: \n",
    "    svcl_classifier = SVC(kernel='linear',C=alpha,random_state=0)\n",
    "    svcl_classifier.fit(X_train, y_train)\n",
    "    train_score_array.append(svcl_classifier.score(X_train, y_train))\n",
    "    test_score_array.append(svcl_classifier.score(X_test, y_test))\n",
    "    "
   ]
  },
  {
   "cell_type": "code",
   "execution_count": 154,
   "metadata": {},
   "outputs": [
    {
     "data": {
      "text/plain": [
       "Text(0.5, 0, 'Regularization parameter: C')"
      ]
     },
     "execution_count": 154,
     "metadata": {},
     "output_type": "execute_result"
    },
    {
     "data": {
      "image/png": "[encoded data removed]",
      "text/plain": [
       "<Figure size 432x288 with 1 Axes>"
      ]
     },
     "metadata": {
      "needs_background": "light"
     },
     "output_type": "display_data"
    }
   ],
   "source": [
    "plt.plot(x_range, train_score_array, c = 'g', label = 'Train Score')\n",
    "plt.plot(x_range, test_score_array, c = 'b', label = 'Test Score')\n",
    "plt.xscale('log')\n",
    "plt.legend()\n",
    "plt.xlabel('C')\n",
    "plt.ylabel('Accuracy')\n",
    "plt.xlabel('Regularization parameter: C')"
   ]
  },
  {
   "cell_type": "markdown",
   "metadata": {},
   "source": [
    "# Decision Tree Classifier"
   ]
  },
  {
   "cell_type": "code",
   "execution_count": 224,
   "metadata": {},
   "outputs": [
    {
     "data": {
      "text/plain": [
       "GridSearchCV(cv=10, estimator=DecisionTreeClassifier(random_state=0),\n",
       "             param_grid={'criterion': ['gini', 'entropy'],\n",
       "                         'max_depth': array([ 1,  2,  3,  4,  5,  6,  7,  8,  9, 10, 11, 12, 13, 14, 15, 16, 17,\n",
       "       18, 19])})"
      ]
     },
     "execution_count": 224,
     "metadata": {},
     "output_type": "execute_result"
    }
   ],
   "source": [
    "from sklearn.tree import DecisionTreeClassifier\n",
    "\n",
    "#Grid Search\n",
    "dt_classifier = DecisionTreeClassifier(random_state = 0)\n",
    "parameters = {'max_depth': np.arange(1, 20),'criterion':['gini','entropy']}\n",
    "dtree_grid = GridSearchCV(dt_classifier, parameters, cv = 10)\n",
    "dtree_grid.fit(X_train, y_train)"
   ]
  },
  {
   "cell_type": "code",
   "execution_count": 225,
   "metadata": {},
   "outputs": [
    {
     "data": {
      "text/plain": [
       "{'criterion': 'entropy', 'max_depth': 10}"
      ]
     },
     "execution_count": 225,
     "metadata": {},
     "output_type": "execute_result"
    }
   ],
   "source": [
    "dtree_grid.best_params_"
   ]
  },
  {
   "cell_type": "code",
   "execution_count": 236,
   "metadata": {},
   "outputs": [
    {
     "name": "stdout",
     "output_type": "stream",
     "text": [
      "Train score: 1.0000\n",
      "Test score: 0.9489\n"
     ]
    }
   ],
   "source": [
    "dtree_best = DecisionTreeClassifier(max_depth=10, random_state=0, criterion= 'entropy').fit(X_train, y_train)\n",
    "\n",
    "print('Train score: {:.4f}'.format(dtree_best.score(X_train, y_train)))\n",
    "print('Test score: {:.4f}'.format(dtree_best.score(X_test, y_test)))"
   ]
  },
  {
   "cell_type": "code",
   "execution_count": 189,
   "metadata": {},
   "outputs": [
    {
     "name": "stdout",
     "output_type": "stream",
     "text": [
      "Cross validation scores: [0.94968553 0.91194969 0.93710692 0.90506329 0.94303797 0.93670886\n",
      " 0.94936709 0.9556962  0.93037975 0.93037975]\n",
      "Average cross-validation score: 0.9349\n"
     ]
    }
   ],
   "source": [
    "#Cross Validation\n",
    "cvscore = cross_val_score(dtree_best,X_train,y_train, cv=10)\n",
    "print(\"Cross validation scores: {}\".format(cvscore))\n",
    "print(\"Average cross-validation score: {:.4f}\".format(cvscore.mean()))"
   ]
  },
  {
   "cell_type": "code",
   "execution_count": 205,
   "metadata": {},
   "outputs": [
    {
     "name": "stdout",
     "output_type": "stream",
     "text": [
      "Precision is: 0.9488636363636364\n",
      "Recall is: 0.9488636363636364\n",
      "The Train score is:1.0\n",
      "The Test score is:0.9488636363636364\n"
     ]
    }
   ],
   "source": [
    "#Evaluation\n",
    "from sklearn.metrics import precision_score\n",
    "from sklearn.metrics import recall_score\n",
    "\n",
    "dt_test_predict = dtree_best.predict(X_test)\n",
    "dt_train_predict=dtree_best.predict(X_train)\n",
    "\n",
    "print('Precision is:',precision_score(y_test,dt_test_predict, average='micro'))\n",
    "print('Recall is:',recall_score(y_test,dt_test_predict, average='micro'))\n",
    "\n",
    "print('The Train score is:{}'.format(accuracy_score(y_train,dt_train_predict)))\n",
    "print('The Test score is:{}'.format(accuracy_score(y_test,dt_test_predict)))"
   ]
  },
  {
   "cell_type": "code",
   "execution_count": 162,
   "metadata": {},
   "outputs": [],
   "source": [
    "train_score_array = []\n",
    "test_score_array = []\n",
    "max_dep = np.arange(1, 20)\n",
    "\n",
    "for depth in max_dep: \n",
    "    dt_classifier = DecisionTreeClassifier(max_depth=depth)\n",
    "    dt_classifier.fit(X_train,y_train)\n",
    "    train_score_array.append(dt_classifier.score(X_train,y_train))\n",
    "    test_score_array.append(dt_classifier.score(X_test, y_test))"
   ]
  },
  {
   "cell_type": "code",
   "execution_count": 163,
   "metadata": {},
   "outputs": [
    {
     "data": {
      "text/plain": [
       "Text(0, 0.5, 'Accuracy')"
      ]
     },
     "execution_count": 163,
     "metadata": {},
     "output_type": "execute_result"
    },
    {
     "data": {
      "image/png": "[encoded data removed]",
      "text/plain": [
       "<Figure size 432x288 with 1 Axes>"
      ]
     },
     "metadata": {
      "needs_background": "light"
     },
     "output_type": "display_data"
    }
   ],
   "source": [
    "plt.plot(max_dep, train_score_array, c = 'g', label = 'Train Score')\n",
    "plt.plot(max_dep, test_score_array, c = 'b', label = 'Test Score')\n",
    "plt.legend(loc = 3)\n",
    "plt.xlabel('Max_Depth')\n",
    "plt.ylabel('Accuracy')\n"
   ]
  },
  {
   "cell_type": "markdown",
   "metadata": {},
   "source": [
    "# Classification Model Comparisons\n"
   ]
  },
  {
   "cell_type": "code",
   "execution_count": 238,
   "metadata": {},
   "outputs": [],
   "source": [
    "df_index=['KNN','Logistic','Linear SVC','SVC rbf Kernel','SVC Poly Kernel','SVC Linear Kernel','Decision Tree']\n",
    "Classification_Result=pd.DataFrame(columns=['Model_Name','Best_Parameter','Training_score','CV_Score','Testing_score','Precision','Recall'],index=df_index)\n",
    "Classification_Result['Model_Name']=Classification_Result.index\n"
   ]
  },
  {
   "cell_type": "code",
   "execution_count": 239,
   "metadata": {},
   "outputs": [],
   "source": [
    "### Results for KNN\n",
    "Classification_Result.loc['KNN']['Best_Parameter']='K=1'\n",
    "Classification_Result.loc['KNN']['Training_score']=1.0\n",
    "Classification_Result.loc['KNN']['CV_Score']=0.7998\n",
    "Classification_Result.loc['KNN']['Testing_score']=0.8030\n",
    "Classification_Result.loc['KNN']['Precision']=0.8030\n",
    "Classification_Result.loc['KNN']['Recall']=0.8030"
   ]
  },
  {
   "cell_type": "code",
   "execution_count": 240,
   "metadata": {},
   "outputs": [],
   "source": [
    "### Results for Logistic Regression\n",
    "Classification_Result.loc['Logistic']['Best_Parameter']='C=100, Penalty=l2'\n",
    "Classification_Result.loc['Logistic']['Training_score']= 0.9065\n",
    "Classification_Result.loc['Logistic']['CV_Score']=0.8698\n",
    "Classification_Result.loc['Logistic']['Testing_score']= 0.8996\n",
    "Classification_Result.loc['Logistic']['Precision']=0.8996\n",
    "Classification_Result.loc['Logistic']['Recall']=0.8030"
   ]
  },
  {
   "cell_type": "code",
   "execution_count": 241,
   "metadata": {},
   "outputs": [],
   "source": [
    "### Results for Linear SVC\n",
    "Classification_Result.loc['Linear SVC']['Best_Parameter']='C=10'\n",
    "Classification_Result.loc['Linear SVC']['Training_score']=0.7751\n",
    "Classification_Result.loc['Linear SVC']['CV_Score']=0.7542\n",
    "Classification_Result.loc['Linear SVC']['Testing_score']=0.7840\n",
    "Classification_Result.loc['Linear SVC']['Precision']=0.7840\n",
    "Classification_Result.loc['Linear SVC']['Recall']=0.7840"
   ]
  },
  {
   "cell_type": "code",
   "execution_count": 242,
   "metadata": {},
   "outputs": [],
   "source": [
    "### Results for SVC rbf Kernel\n",
    "Classification_Result.loc['SVC rbf Kernel']['Best_Parameter']='C= 10, gamma =0.1'\n",
    "Classification_Result.loc['SVC rbf Kernel']['Training_score']=0.9311\n",
    "Classification_Result.loc['SVC rbf Kernel']['CV_Score']=0.8635\n",
    "Classification_Result.loc['SVC rbf Kernel']['Testing_score']=0.8693\n",
    "Classification_Result.loc['SVC rbf Kernel']['Precision']=0.8693\n",
    "Classification_Result.loc['SVC rbf Kernel']['Recall']=0.8693"
   ]
  },
  {
   "cell_type": "code",
   "execution_count": 243,
   "metadata": {},
   "outputs": [],
   "source": [
    "### Results for SVC Poly Kernel\n",
    "Classification_Result.loc['SVC Poly Kernel']['Best_Parameter']='C= 0.001, gamma =10'\n",
    "Classification_Result.loc['SVC Poly Kernel']['Training_score']=1.0\n",
    "Classification_Result.loc['SVC Poly Kernel']['CV_Score']=0.9280\n",
    "Classification_Result.loc['SVC Poly Kernel']['Testing_score']=0.9280\n",
    "Classification_Result.loc['SVC Poly Kernel']['Precision']=0.9280\n",
    "Classification_Result.loc['SVC Poly Kernel']['Recall']=0.9280"
   ]
  },
  {
   "cell_type": "code",
   "execution_count": 244,
   "metadata": {},
   "outputs": [],
   "source": [
    "### Results for SVC Linear Kernel\n",
    "Classification_Result.loc['SVC Linear Kernel']['Best_Parameter']='C=10, gamma=10'\n",
    "Classification_Result.loc['SVC Linear Kernel']['Training_score']=0.9494\n",
    "Classification_Result.loc['SVC Linear Kernel']['CV_Score']=0.9305\n",
    "Classification_Result.loc['SVC Linear Kernel']['Testing_score']=0.9393\n",
    "Classification_Result.loc['SVC Linear Kernel']['Precision']=0.9393\n",
    "Classification_Result.loc['SVC Linear Kernel']['Recall']=0.9393"
   ]
  },
  {
   "cell_type": "code",
   "execution_count": 245,
   "metadata": {},
   "outputs": [],
   "source": [
    "### Results for Decision Tree\n",
    "Classification_Result.loc['Decision Tree']['Best_Parameter']='Max_depth = 10'\n",
    "Classification_Result.loc['Decision Tree']['Training_score']=1.0\n",
    "Classification_Result.loc['Decision Tree']['CV_Score']=0.9349\n",
    "Classification_Result.loc['Decision Tree']['Testing_score']=0.9488\n",
    "Classification_Result.loc['Decision Tree']['Precision']=0.9488\n",
    "Classification_Result.loc['Decision Tree']['Recall']=0.9488"
   ]
  },
  {
   "cell_type": "code",
   "execution_count": 246,
   "metadata": {},
   "outputs": [
    {
     "data": {
      "text/html": [
       "<div>\n",
       "<style scoped>\n",
       "    .dataframe tbody tr th:only-of-type {\n",
       "        vertical-align: middle;\n",
       "    }\n",
       "\n",
       "    .dataframe tbody tr th {\n",
       "        vertical-align: top;\n",
       "    }\n",
       "\n",
       "    .dataframe thead th {\n",
       "        text-align: right;\n",
       "    }\n",
       "</style>\n",
       "<table border=\"1\" class=\"dataframe\">\n",
       "  <thead>\n",
       "    <tr style=\"text-align: right;\">\n",
       "      <th></th>\n",
       "      <th>Model_Name</th>\n",
       "      <th>Best_Parameter</th>\n",
       "      <th>Training_score</th>\n",
       "      <th>CV_Score</th>\n",
       "      <th>Testing_score</th>\n",
       "      <th>Precision</th>\n",
       "      <th>Recall</th>\n",
       "    </tr>\n",
       "  </thead>\n",
       "  <tbody>\n",
       "    <tr>\n",
       "      <th>KNN</th>\n",
       "      <td>KNN</td>\n",
       "      <td>K=1</td>\n",
       "      <td>1</td>\n",
       "      <td>0.7998</td>\n",
       "      <td>0.803</td>\n",
       "      <td>0.803</td>\n",
       "      <td>0.803</td>\n",
       "    </tr>\n",
       "    <tr>\n",
       "      <th>Logistic</th>\n",
       "      <td>Logistic</td>\n",
       "      <td>C=100, Penalty=l2</td>\n",
       "      <td>0.9065</td>\n",
       "      <td>0.8698</td>\n",
       "      <td>0.8996</td>\n",
       "      <td>0.8996</td>\n",
       "      <td>0.803</td>\n",
       "    </tr>\n",
       "    <tr>\n",
       "      <th>Linear SVC</th>\n",
       "      <td>Linear SVC</td>\n",
       "      <td>C=10</td>\n",
       "      <td>0.7751</td>\n",
       "      <td>0.7542</td>\n",
       "      <td>0.784</td>\n",
       "      <td>0.784</td>\n",
       "      <td>0.784</td>\n",
       "    </tr>\n",
       "    <tr>\n",
       "      <th>SVC rbf Kernel</th>\n",
       "      <td>SVC rbf Kernel</td>\n",
       "      <td>C= 10, gamma =0.1</td>\n",
       "      <td>0.9311</td>\n",
       "      <td>0.8635</td>\n",
       "      <td>0.8693</td>\n",
       "      <td>0.8693</td>\n",
       "      <td>0.8693</td>\n",
       "    </tr>\n",
       "    <tr>\n",
       "      <th>SVC Poly Kernel</th>\n",
       "      <td>SVC Poly Kernel</td>\n",
       "      <td>C= 0.001, gamma =10</td>\n",
       "      <td>1</td>\n",
       "      <td>0.928</td>\n",
       "      <td>0.928</td>\n",
       "      <td>0.928</td>\n",
       "      <td>0.928</td>\n",
       "    </tr>\n",
       "    <tr>\n",
       "      <th>SVC Linear Kernel</th>\n",
       "      <td>SVC Linear Kernel</td>\n",
       "      <td>C=10, gamma=10</td>\n",
       "      <td>0.9494</td>\n",
       "      <td>0.9305</td>\n",
       "      <td>0.9393</td>\n",
       "      <td>0.9393</td>\n",
       "      <td>0.9393</td>\n",
       "    </tr>\n",
       "    <tr>\n",
       "      <th>Decision Tree</th>\n",
       "      <td>Decision Tree</td>\n",
       "      <td>Max_depth = 10</td>\n",
       "      <td>1</td>\n",
       "      <td>0.9349</td>\n",
       "      <td>0.9488</td>\n",
       "      <td>0.9488</td>\n",
       "      <td>0.9488</td>\n",
       "    </tr>\n",
       "  </tbody>\n",
       "</table>\n",
       "</div>"
      ],
      "text/plain": [
       "                          Model_Name       Best_Parameter Training_score  \\\n",
       "KNN                              KNN                  K=1              1   \n",
       "Logistic                    Logistic    C=100, Penalty=l2         0.9065   \n",
       "Linear SVC                Linear SVC                 C=10         0.7751   \n",
       "SVC rbf Kernel        SVC rbf Kernel    C= 10, gamma =0.1         0.9311   \n",
       "SVC Poly Kernel      SVC Poly Kernel  C= 0.001, gamma =10              1   \n",
       "SVC Linear Kernel  SVC Linear Kernel       C=10, gamma=10         0.9494   \n",
       "Decision Tree          Decision Tree       Max_depth = 10              1   \n",
       "\n",
       "                  CV_Score Testing_score Precision  Recall  \n",
       "KNN                 0.7998         0.803     0.803   0.803  \n",
       "Logistic            0.8698        0.8996    0.8996   0.803  \n",
       "Linear SVC          0.7542         0.784     0.784   0.784  \n",
       "SVC rbf Kernel      0.8635        0.8693    0.8693  0.8693  \n",
       "SVC Poly Kernel      0.928         0.928     0.928   0.928  \n",
       "SVC Linear Kernel   0.9305        0.9393    0.9393  0.9393  \n",
       "Decision Tree       0.9349        0.9488    0.9488  0.9488  "
      ]
     },
     "execution_count": 246,
     "metadata": {},
     "output_type": "execute_result"
    }
   ],
   "source": [
    "Classification_Result"
   ]
  },
  {
   "cell_type": "markdown",
   "metadata": {},
   "source": [
    "# Decision Tree Classifier is the best classification because it has the highest Accuracy score, Precision score and Recall score."
   ]
  },
  {
   "cell_type": "code",
   "execution_count": 250,
   "metadata": {},
   "outputs": [
    {
     "data": {
      "text/html": [
       "<div>\n",
       "<style scoped>\n",
       "    .dataframe tbody tr th:only-of-type {\n",
       "        vertical-align: middle;\n",
       "    }\n",
       "\n",
       "    .dataframe tbody tr th {\n",
       "        vertical-align: top;\n",
       "    }\n",
       "\n",
       "    .dataframe thead th {\n",
       "        text-align: right;\n",
       "    }\n",
       "</style>\n",
       "<table border=\"1\" class=\"dataframe\">\n",
       "  <thead>\n",
       "    <tr style=\"text-align: right;\">\n",
       "      <th></th>\n",
       "      <th>Gender</th>\n",
       "      <th>Age</th>\n",
       "      <th>Height</th>\n",
       "      <th>Weight</th>\n",
       "      <th>family_history_with_overweight</th>\n",
       "      <th>FAVC</th>\n",
       "      <th>FCVC</th>\n",
       "      <th>NCP</th>\n",
       "      <th>SMOKE</th>\n",
       "      <th>CH2O</th>\n",
       "      <th>...</th>\n",
       "      <th>CAEC_no</th>\n",
       "      <th>CALC_Always</th>\n",
       "      <th>CALC_Frequently</th>\n",
       "      <th>CALC_Sometimes</th>\n",
       "      <th>CALC_no</th>\n",
       "      <th>MTRANS_Automobile</th>\n",
       "      <th>MTRANS_Bike</th>\n",
       "      <th>MTRANS_Motorbike</th>\n",
       "      <th>MTRANS_Public_Transportation</th>\n",
       "      <th>MTRANS_Walking</th>\n",
       "    </tr>\n",
       "  </thead>\n",
       "  <tbody>\n",
       "    <tr>\n",
       "      <th>0</th>\n",
       "      <td>0.0</td>\n",
       "      <td>0.148936</td>\n",
       "      <td>0.320755</td>\n",
       "      <td>0.186567</td>\n",
       "      <td>0.0</td>\n",
       "      <td>1.0</td>\n",
       "      <td>0.5</td>\n",
       "      <td>0.666667</td>\n",
       "      <td>1.0</td>\n",
       "      <td>0.5</td>\n",
       "      <td>...</td>\n",
       "      <td>0.0</td>\n",
       "      <td>0.0</td>\n",
       "      <td>0.0</td>\n",
       "      <td>0.0</td>\n",
       "      <td>1.0</td>\n",
       "      <td>0.0</td>\n",
       "      <td>0.0</td>\n",
       "      <td>0.0</td>\n",
       "      <td>1.0</td>\n",
       "      <td>0.0</td>\n",
       "    </tr>\n",
       "    <tr>\n",
       "      <th>1</th>\n",
       "      <td>0.0</td>\n",
       "      <td>0.148936</td>\n",
       "      <td>0.132075</td>\n",
       "      <td>0.126866</td>\n",
       "      <td>0.0</td>\n",
       "      <td>1.0</td>\n",
       "      <td>1.0</td>\n",
       "      <td>0.666667</td>\n",
       "      <td>0.0</td>\n",
       "      <td>1.0</td>\n",
       "      <td>...</td>\n",
       "      <td>0.0</td>\n",
       "      <td>0.0</td>\n",
       "      <td>0.0</td>\n",
       "      <td>1.0</td>\n",
       "      <td>0.0</td>\n",
       "      <td>0.0</td>\n",
       "      <td>0.0</td>\n",
       "      <td>0.0</td>\n",
       "      <td>1.0</td>\n",
       "      <td>0.0</td>\n",
       "    </tr>\n",
       "    <tr>\n",
       "      <th>2</th>\n",
       "      <td>1.0</td>\n",
       "      <td>0.191489</td>\n",
       "      <td>0.660377</td>\n",
       "      <td>0.283582</td>\n",
       "      <td>0.0</td>\n",
       "      <td>1.0</td>\n",
       "      <td>0.5</td>\n",
       "      <td>0.666667</td>\n",
       "      <td>1.0</td>\n",
       "      <td>0.5</td>\n",
       "      <td>...</td>\n",
       "      <td>0.0</td>\n",
       "      <td>0.0</td>\n",
       "      <td>1.0</td>\n",
       "      <td>0.0</td>\n",
       "      <td>0.0</td>\n",
       "      <td>0.0</td>\n",
       "      <td>0.0</td>\n",
       "      <td>0.0</td>\n",
       "      <td>1.0</td>\n",
       "      <td>0.0</td>\n",
       "    </tr>\n",
       "    <tr>\n",
       "      <th>3</th>\n",
       "      <td>1.0</td>\n",
       "      <td>0.276596</td>\n",
       "      <td>0.660377</td>\n",
       "      <td>0.358209</td>\n",
       "      <td>1.0</td>\n",
       "      <td>1.0</td>\n",
       "      <td>1.0</td>\n",
       "      <td>0.666667</td>\n",
       "      <td>1.0</td>\n",
       "      <td>0.5</td>\n",
       "      <td>...</td>\n",
       "      <td>0.0</td>\n",
       "      <td>0.0</td>\n",
       "      <td>1.0</td>\n",
       "      <td>0.0</td>\n",
       "      <td>0.0</td>\n",
       "      <td>0.0</td>\n",
       "      <td>0.0</td>\n",
       "      <td>0.0</td>\n",
       "      <td>0.0</td>\n",
       "      <td>1.0</td>\n",
       "    </tr>\n",
       "    <tr>\n",
       "      <th>4</th>\n",
       "      <td>1.0</td>\n",
       "      <td>0.170213</td>\n",
       "      <td>0.622642</td>\n",
       "      <td>0.379104</td>\n",
       "      <td>1.0</td>\n",
       "      <td>1.0</td>\n",
       "      <td>0.5</td>\n",
       "      <td>0.000000</td>\n",
       "      <td>1.0</td>\n",
       "      <td>0.5</td>\n",
       "      <td>...</td>\n",
       "      <td>0.0</td>\n",
       "      <td>0.0</td>\n",
       "      <td>0.0</td>\n",
       "      <td>1.0</td>\n",
       "      <td>0.0</td>\n",
       "      <td>0.0</td>\n",
       "      <td>0.0</td>\n",
       "      <td>0.0</td>\n",
       "      <td>1.0</td>\n",
       "      <td>0.0</td>\n",
       "    </tr>\n",
       "  </tbody>\n",
       "</table>\n",
       "<p>5 rows × 26 columns</p>\n",
       "</div>"
      ],
      "text/plain": [
       "   Gender       Age    Height    Weight  family_history_with_overweight  FAVC  \\\n",
       "0     0.0  0.148936  0.320755  0.186567                             0.0   1.0   \n",
       "1     0.0  0.148936  0.132075  0.126866                             0.0   1.0   \n",
       "2     1.0  0.191489  0.660377  0.283582                             0.0   1.0   \n",
       "3     1.0  0.276596  0.660377  0.358209                             1.0   1.0   \n",
       "4     1.0  0.170213  0.622642  0.379104                             1.0   1.0   \n",
       "\n",
       "   FCVC       NCP  SMOKE  CH2O  ...  CAEC_no  CALC_Always  CALC_Frequently  \\\n",
       "0   0.5  0.666667    1.0   0.5  ...      0.0          0.0              0.0   \n",
       "1   1.0  0.666667    0.0   1.0  ...      0.0          0.0              0.0   \n",
       "2   0.5  0.666667    1.0   0.5  ...      0.0          0.0              1.0   \n",
       "3   1.0  0.666667    1.0   0.5  ...      0.0          0.0              1.0   \n",
       "4   0.5  0.000000    1.0   0.5  ...      0.0          0.0              0.0   \n",
       "\n",
       "   CALC_Sometimes  CALC_no  MTRANS_Automobile  MTRANS_Bike  MTRANS_Motorbike  \\\n",
       "0             0.0      1.0                0.0          0.0               0.0   \n",
       "1             1.0      0.0                0.0          0.0               0.0   \n",
       "2             0.0      0.0                0.0          0.0               0.0   \n",
       "3             0.0      0.0                0.0          0.0               0.0   \n",
       "4             1.0      0.0                0.0          0.0               0.0   \n",
       "\n",
       "   MTRANS_Public_Transportation  MTRANS_Walking  \n",
       "0                           1.0             0.0  \n",
       "1                           1.0             0.0  \n",
       "2                           1.0             0.0  \n",
       "3                           0.0             1.0  \n",
       "4                           1.0             0.0  \n",
       "\n",
       "[5 rows x 26 columns]"
      ]
     },
     "execution_count": 250,
     "metadata": {},
     "output_type": "execute_result"
    }
   ],
   "source": [
    "X_full_data = scaler.fit_transform(X)\n",
    "X_full_data = pd.DataFrame(X_full_data, columns= X.columns)\n",
    "X_full_data.head()"
   ]
  },
  {
   "cell_type": "code",
   "execution_count": 251,
   "metadata": {},
   "outputs": [
    {
     "name": "stdout",
     "output_type": "stream",
     "text": [
      "Train score: 1.0000\n",
      "Test score: 1.0000\n"
     ]
    }
   ],
   "source": [
    "dtree_best = DecisionTreeClassifier(max_depth=10, random_state=0, criterion= 'entropy').fit(X_full_data, y)\n",
    "\n",
    "print('Train score: {:.4f}'.format(dtree_best.score(X_full_data, y)))\n",
    "print('Test score: {:.4f}'.format(dtree_best.score(X_full_data, y)))"
   ]
  },
  {
   "cell_type": "code",
   "execution_count": 254,
   "metadata": {
    "scrolled": true
   },
   "outputs": [
    {
     "data": {
      "text/html": [
       "<div>\n",
       "<style scoped>\n",
       "    .dataframe tbody tr th:only-of-type {\n",
       "        vertical-align: middle;\n",
       "    }\n",
       "\n",
       "    .dataframe tbody tr th {\n",
       "        vertical-align: top;\n",
       "    }\n",
       "\n",
       "    .dataframe thead th {\n",
       "        text-align: right;\n",
       "    }\n",
       "</style>\n",
       "<table border=\"1\" class=\"dataframe\">\n",
       "  <thead>\n",
       "    <tr style=\"text-align: right;\">\n",
       "      <th></th>\n",
       "      <th>Predicted Obesity Level</th>\n",
       "      <th>Actual Obesity Level</th>\n",
       "    </tr>\n",
       "  </thead>\n",
       "  <tbody>\n",
       "    <tr>\n",
       "      <th>0</th>\n",
       "      <td>3</td>\n",
       "      <td>3</td>\n",
       "    </tr>\n",
       "    <tr>\n",
       "      <th>1</th>\n",
       "      <td>2</td>\n",
       "      <td>2</td>\n",
       "    </tr>\n",
       "    <tr>\n",
       "      <th>2</th>\n",
       "      <td>5</td>\n",
       "      <td>5</td>\n",
       "    </tr>\n",
       "    <tr>\n",
       "      <th>3</th>\n",
       "      <td>4</td>\n",
       "      <td>4</td>\n",
       "    </tr>\n",
       "    <tr>\n",
       "      <th>4</th>\n",
       "      <td>4</td>\n",
       "      <td>4</td>\n",
       "    </tr>\n",
       "    <tr>\n",
       "      <th>5</th>\n",
       "      <td>3</td>\n",
       "      <td>3</td>\n",
       "    </tr>\n",
       "    <tr>\n",
       "      <th>6</th>\n",
       "      <td>0</td>\n",
       "      <td>0</td>\n",
       "    </tr>\n",
       "    <tr>\n",
       "      <th>7</th>\n",
       "      <td>4</td>\n",
       "      <td>4</td>\n",
       "    </tr>\n",
       "    <tr>\n",
       "      <th>8</th>\n",
       "      <td>2</td>\n",
       "      <td>2</td>\n",
       "    </tr>\n",
       "    <tr>\n",
       "      <th>9</th>\n",
       "      <td>3</td>\n",
       "      <td>3</td>\n",
       "    </tr>\n",
       "    <tr>\n",
       "      <th>10</th>\n",
       "      <td>4</td>\n",
       "      <td>4</td>\n",
       "    </tr>\n",
       "    <tr>\n",
       "      <th>11</th>\n",
       "      <td>2</td>\n",
       "      <td>2</td>\n",
       "    </tr>\n",
       "    <tr>\n",
       "      <th>12</th>\n",
       "      <td>5</td>\n",
       "      <td>5</td>\n",
       "    </tr>\n",
       "    <tr>\n",
       "      <th>13</th>\n",
       "      <td>2</td>\n",
       "      <td>2</td>\n",
       "    </tr>\n",
       "    <tr>\n",
       "      <th>14</th>\n",
       "      <td>1</td>\n",
       "      <td>1</td>\n",
       "    </tr>\n",
       "    <tr>\n",
       "      <th>15</th>\n",
       "      <td>2</td>\n",
       "      <td>2</td>\n",
       "    </tr>\n",
       "    <tr>\n",
       "      <th>16</th>\n",
       "      <td>1</td>\n",
       "      <td>1</td>\n",
       "    </tr>\n",
       "    <tr>\n",
       "      <th>17</th>\n",
       "      <td>4</td>\n",
       "      <td>4</td>\n",
       "    </tr>\n",
       "    <tr>\n",
       "      <th>18</th>\n",
       "      <td>6</td>\n",
       "      <td>6</td>\n",
       "    </tr>\n",
       "    <tr>\n",
       "      <th>19</th>\n",
       "      <td>6</td>\n",
       "      <td>6</td>\n",
       "    </tr>\n",
       "  </tbody>\n",
       "</table>\n",
       "</div>"
      ],
      "text/plain": [
       "    Predicted Obesity Level  Actual Obesity Level\n",
       "0                         3                     3\n",
       "1                         2                     2\n",
       "2                         5                     5\n",
       "3                         4                     4\n",
       "4                         4                     4\n",
       "5                         3                     3\n",
       "6                         0                     0\n",
       "7                         4                     4\n",
       "8                         2                     2\n",
       "9                         3                     3\n",
       "10                        4                     4\n",
       "11                        2                     2\n",
       "12                        5                     5\n",
       "13                        2                     2\n",
       "14                        1                     1\n",
       "15                        2                     2\n",
       "16                        1                     1\n",
       "17                        4                     4\n",
       "18                        6                     6\n",
       "19                        6                     6"
      ]
     },
     "execution_count": 254,
     "metadata": {},
     "output_type": "execute_result"
    }
   ],
   "source": [
    "#Predicting the Target variable\n",
    "pred_values= dtree_best.predict(X_test)\n",
    "y_test_df = pd.DataFrame(y_test).reset_index(drop=True).rename(columns={'NObesity':'Actual Obesity Level'})\n",
    "pred_values_df= pd.DataFrame(pred_values).rename(columns={0:'Predicted Obesity Level'}).astype('int64')\n",
    "pred_test_dtree_df = pd.concat([pred_values_df, y_test_df], axis=1)\n",
    "pred_test_dtree_df.head(20)\n"
   ]
  },
  {
   "cell_type": "code",
   "execution_count": 256,
   "metadata": {},
   "outputs": [
    {
     "name": "stdout",
     "output_type": "stream",
     "text": [
      "Precision is: 0.9981060606060606\n",
      "Recall is: 0.9981060606060606\n"
     ]
    }
   ],
   "source": [
    "from sklearn.metrics import precision_score\n",
    "from sklearn.metrics import recall_score\n",
    "print('Precision is:',precision_score(y_test,pred_values, average='micro'))\n",
    "print('Recall is:',recall_score(y_test,pred_values, average='micro'))\n"
   ]
  }
 ],
 "metadata": {
  "kernelspec": {
   "display_name": "Python 3",
   "language": "python",
   "name": "python3"
  },
  "language_info": {
   "codemirror_mode": {
    "name": "ipython",
    "version": 3
   },
   "file_extension": ".py",
   "mimetype": "text/x-python",
   "name": "python",
   "nbconvert_exporter": "python",
   "pygments_lexer": "ipython3",
   "version": "3.8.3"
  }
 },
 "nbformat": 4,
 "nbformat_minor": 4
}
